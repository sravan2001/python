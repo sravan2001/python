{
  "nbformat": 4,
  "nbformat_minor": 0,
  "metadata": {
    "colab": {
      "name": "24/06/19.ipynb",
      "version": "0.3.2",
      "provenance": [],
      "collapsed_sections": [],
      "include_colab_link": true
    },
    "kernelspec": {
      "name": "python3",
      "display_name": "Python 3"
    }
  },
  "cells": [
    {
      "cell_type": "markdown",
      "metadata": {
        "id": "view-in-github",
        "colab_type": "text"
      },
      "source": [
        "<a href=\"https://colab.research.google.com/github/Akash-Varma-0/Python/blob/master/24_06_19.ipynb\" target=\"_parent\"><img src=\"https://colab.research.google.com/assets/colab-badge.svg\" alt=\"Open In Colab\"/></a>"
      ]
    },
    {
      "cell_type": "code",
      "metadata": {
        "id": "9ymBjMDNl7Iv",
        "colab_type": "code",
        "colab": {}
      },
      "source": [
        "def printeven(n):\n",
        "  cnt=0\n",
        "  sum=0\n",
        "  while(cnt!=n):\n",
        "    if(cnt%2==0):\n",
        "      sum=sum+cnt\n",
        "    cnt=cnt+1\n",
        "  return sum\n",
        "print(printeven(20))"
      ],
      "execution_count": 0,
      "outputs": []
    },
    {
      "cell_type": "markdown",
      "metadata": {
        "id": "yqdv1vbhrsMY",
        "colab_type": "text"
      },
      "source": [
        "##Example function "
      ]
    },
    {
      "cell_type": "code",
      "metadata": {
        "id": "R-oL8jV0r8g2",
        "colab_type": "code",
        "outputId": "e0f4beca-7302-44b7-e30d-1be7b441aad1",
        "colab": {
          "base_uri": "https://localhost:8080/",
          "height": 34
        }
      },
      "source": [
        "def factorlist(n):\n",
        "  i=1\n",
        "  while(i!=n):\n",
        "    if(n%i==0):\n",
        "      print(i,end= ' ')\n",
        "    i=i+1\n",
        "  return\n",
        "factorlist(12)"
      ],
      "execution_count": 0,
      "outputs": [
        {
          "output_type": "stream",
          "text": [
            "1 2 3 4 6 "
          ],
          "name": "stdout"
        }
      ]
    },
    {
      "cell_type": "markdown",
      "metadata": {
        "id": "WqTJb5BKuS5x",
        "colab_type": "text"
      },
      "source": [
        "##List in Python\n",
        "\n",
        "List can be written in python with square brackets and each item in the list is separated by comma operator\n",
        "\n",
        "List can be anything  -- int, char, float and string\n",
        "\n",
        "#####Example of List\n",
        "\n",
        "list 1= [1,2,3,4,5]\n",
        "\n",
        "list 2=[\"a\",\"b\",\"c\",\"d\"]\n",
        "\n",
        "list 3=[maths,science,physics,128,624]"
      ]
    },
    {
      "cell_type": "code",
      "metadata": {
        "id": "Nhmx3e2Hv0H_",
        "colab_type": "code",
        "outputId": "2f86a25d-5fe2-49cf-ede9-6719bcbfd927",
        "colab": {
          "base_uri": "https://localhost:8080/",
          "height": 51
        }
      },
      "source": [
        "list1=[1,2,3,4,5]\n",
        "#Entire List\n",
        "print(list1)\n",
        "#list[0]\n",
        "print(list1[0])"
      ],
      "execution_count": 0,
      "outputs": [
        {
          "output_type": "stream",
          "text": [
            "[1, 2, 3, 4, 5]\n",
            "1\n"
          ],
          "name": "stdout"
        }
      ]
    },
    {
      "cell_type": "markdown",
      "metadata": {
        "id": "XtJm3pnTwNEG",
        "colab_type": "text"
      },
      "source": [
        "###for Loop\n",
        "\n",
        "Syntax:-\n",
        "\n",
        "            for <variablename> in <seq>:<br>\n",
        "                     <statements>"
      ]
    },
    {
      "cell_type": "code",
      "metadata": {
        "id": "TBJHd3buwp5d",
        "colab_type": "code",
        "outputId": "6187eb2d-9f1e-487a-88ac-06ee20058916",
        "colab": {
          "base_uri": "https://localhost:8080/",
          "height": 34
        }
      },
      "source": [
        "list2=[\"Akhil\",\"Arvind\",\"Anil\",\"Akash\"]\n",
        "for x in list2:\n",
        "  print(x,end= \" \")"
      ],
      "execution_count": 0,
      "outputs": [
        {
          "output_type": "stream",
          "text": [
            "Akhil Arvind Anil Akash "
          ],
          "name": "stdout"
        }
      ]
    },
    {
      "cell_type": "code",
      "metadata": {
        "id": "6OXVdkxJyRSj",
        "colab_type": "code",
        "outputId": "872b9e76-36d0-45cc-eed9-3a04f9e0f2c7",
        "colab": {
          "base_uri": "https://localhost:8080/",
          "height": 119
        }
      },
      "source": [
        "#List example with particular index\n",
        "lst1=[1,2,3,4,5,6,7]\n",
        "for x in lst1:\n",
        "  print(x,end= \" \")\n",
        "print()\n",
        "print(lst1[4])\n",
        "print(lst1[3:7])\n",
        "print(lst1[0:3])\n",
        "print(lst1[:3])\n",
        "print(lst1[:7])"
      ],
      "execution_count": 0,
      "outputs": [
        {
          "output_type": "stream",
          "text": [
            "1 2 3 4 5 6 7 \n",
            "5\n",
            "[4, 5, 6, 7]\n",
            "[1, 2, 3]\n",
            "[1, 2, 3]\n",
            "[1, 2, 3, 4, 5, 6, 7]\n"
          ],
          "name": "stdout"
        }
      ]
    },
    {
      "cell_type": "code",
      "metadata": {
        "id": "mHEXfRGR1ESB",
        "colab_type": "code",
        "outputId": "d95aea00-a3d2-449f-e9a7-12935ce613cf",
        "colab": {
          "base_uri": "https://localhost:8080/",
          "height": 173
        }
      },
      "source": [
        "lst1=[1,2,3,4,5,6,7,8,9,10]\n",
        "for x in lst1:\n",
        "  print(x,end= \" \")\n",
        "print()\n",
        "print(lst1[1:-1])\n",
        "print(lst1[2:-2])\n",
        "print(lst1[::2])\n",
        "print(lst1[::3])\n",
        "print(lst1[::4])\n",
        "print(lst1[::-2])\n",
        "print(lst1[-1])\n",
        "print(lst1[-2])"
      ],
      "execution_count": 0,
      "outputs": [
        {
          "output_type": "stream",
          "text": [
            "1 2 3 4 5 6 7 8 9 10 \n",
            "[2, 3, 4, 5, 6, 7, 8, 9]\n",
            "[3, 4, 5, 6, 7, 8]\n",
            "[1, 3, 5, 7, 9]\n",
            "[1, 4, 7, 10]\n",
            "[1, 5, 9]\n",
            "[10, 8, 6, 4, 2]\n",
            "10\n",
            "9\n"
          ],
          "name": "stdout"
        }
      ]
    },
    {
      "cell_type": "code",
      "metadata": {
        "id": "bvhrI_T454GM",
        "colab_type": "code",
        "outputId": "d08b92e2-eb94-47e1-ea4b-de055e0c3447",
        "colab": {
          "base_uri": "https://localhost:8080/",
          "height": 121
        }
      },
      "source": [
        "lst1=[\"Anil\",\"Adarsh\", \"Akhil\",1]\n",
        "print(lst1)\n",
        "lst1[2]=15# update the list item\n",
        "print(lst1)\n",
        "del lst1[3]# delete the list item\n",
        "print(lst1)\n",
        "lst1[1]=\"Gitam\"\n",
        "print(lst1)\n",
        "lst2=[1,2,3]\n",
        "print(lst2)\n",
        "print(lst1+lst2)# Concatination of both the lists"
      ],
      "execution_count": 0,
      "outputs": [
        {
          "output_type": "stream",
          "text": [
            "['Anil', 'Adarsh', 'Akhil', 1]\n",
            "['Anil', 'Adarsh', 15, 1]\n",
            "['Anil', 'Adarsh', 15]\n",
            "['Anil', 'Gitam', 15]\n",
            "[1, 2, 3]\n",
            "['Anil', 'Gitam', 15, 1, 2, 3]\n"
          ],
          "name": "stdout"
        }
      ]
    },
    {
      "cell_type": "markdown",
      "metadata": {
        "id": "7Iatrmdf9j89",
        "colab_type": "text"
      },
      "source": [
        "##List Method:\n",
        "\n",
        "####append(obj)\n",
        "\n",
        "The method appends a passed object into a existing list\n",
        "\n",
        "####count(obj)\n",
        "\n",
        "The method returns the count of obj how many times in the list"
      ]
    },
    {
      "cell_type": "code",
      "metadata": {
        "id": "ZmqytKb1864f",
        "colab_type": "code",
        "outputId": "9ede5d2f-60cb-45b3-8301-c8d8ae769947",
        "colab": {
          "base_uri": "https://localhost:8080/",
          "height": 156
        }
      },
      "source": [
        "lst1=[1,2,3,4,5]\n",
        "print(lst1)\n",
        "del lst1[2]\n",
        "print(lst1)\n",
        "#lst1[4]=15\n",
        "print(len(lst1))# Used to find the len of the list\n",
        "lst1.append(15)\n",
        "print(lst1)\n",
        "lst1.append(150)\n",
        "print(lst1)\n",
        "lst1.append(1)\n",
        "lst1.append(3)\n",
        "lst1.append(1)\n",
        "print(lst1)\n",
        "print(lst1.count(1))\n",
        "print(lst1.count(3))"
      ],
      "execution_count": 0,
      "outputs": [
        {
          "output_type": "stream",
          "text": [
            "[1, 2, 3, 4, 5]\n",
            "[1, 2, 4, 5]\n",
            "4\n",
            "[1, 2, 4, 5, 15]\n",
            "[1, 2, 4, 5, 15, 150]\n",
            "[1, 2, 4, 5, 15, 150, 1, 3, 1]\n",
            "3\n",
            "1\n"
          ],
          "name": "stdout"
        }
      ]
    },
    {
      "cell_type": "markdown",
      "metadata": {
        "id": "yvjO0thL4-8_",
        "colab_type": "text"
      },
      "source": [
        "##List Methods\n",
        "\n",
        "####Index(obj)\n",
        "\n",
        "Returns the index of passed object first occurance from the lest side.\n",
        "\n",
        "####Insert(index,obj)\n",
        "\n",
        "The insertsthe passed obj at certain index."
      ]
    },
    {
      "cell_type": "code",
      "metadata": {
        "id": "t4wodxvB5Nct",
        "colab_type": "code",
        "outputId": "a0b07c60-14fc-4e72-8194-296a04dbda20",
        "colab": {
          "base_uri": "https://localhost:8080/",
          "height": 104
        }
      },
      "source": [
        "lst1=[\"Gitam\",\"python\",\"Raptor\",1,5,\"Python\",\"Python\"]\n",
        "print(lst1)\n",
        "lst1.index(\"Python\")#Finding the index of object in the list\n",
        "lst1.index(1)\n",
        "print(len(lst1))\n",
        "lst1.insert(2,2019)\n",
        "print(lst1)\n",
        "print(len(lst1))\n",
        "lst1.insert(4,2020)\n",
        "print(lst1)"
      ],
      "execution_count": 0,
      "outputs": [
        {
          "output_type": "stream",
          "text": [
            "['Gitam', 'python', 'Raptor', 1, 5, 'Python', 'Python']\n",
            "7\n",
            "['Gitam', 'python', 2019, 'Raptor', 1, 5, 'Python', 'Python']\n",
            "8\n",
            "['Gitam', 'python', 2019, 'Raptor', 2020, 1, 5, 'Python', 'Python']\n"
          ],
          "name": "stdout"
        }
      ]
    },
    {
      "cell_type": "markdown",
      "metadata": {
        "id": "TYtipWD6L9Ay",
        "colab_type": "text"
      },
      "source": [
        "###List Methods\n",
        "\n",
        "#### remove(obj)\n",
        "\n",
        "The remove method removes the passed object from the first occurance from left direction\n",
        "\n",
        "#### reverse()\n",
        "\n",
        "The reverse() reverses objects of the list"
      ]
    },
    {
      "cell_type": "code",
      "metadata": {
        "id": "wlNZsg3XMagR",
        "colab_type": "code",
        "outputId": "04fbb187-5cbb-4eb8-c9c6-1cad381fd020",
        "colab": {
          "base_uri": "https://localhost:8080/",
          "height": 87
        }
      },
      "source": [
        "lst1=[\"Gitam\",\"Python\",\"Raptor\",1,5,\"Python\",\"Python\"]\n",
        "print(lst1)\n",
        "lst1.remove(\"Python\")\n",
        "print(lst1)\n",
        "lst1.remove(\"Python\")\n",
        "print(lst1)\n",
        "lst1.reverse()\n",
        "print(lst1)"
      ],
      "execution_count": 0,
      "outputs": [
        {
          "output_type": "stream",
          "text": [
            "['Gitam', 'Python', 'Raptor', 1, 5, 'Python', 'Python']\n",
            "['Gitam', 'Raptor', 1, 5, 'Python', 'Python']\n",
            "['Gitam', 'Raptor', 1, 5, 'Python']\n",
            "['Python', 5, 1, 'Raptor', 'Gitam']\n"
          ],
          "name": "stdout"
        }
      ]
    }
  ]
}