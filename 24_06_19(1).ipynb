{
  "nbformat": 4,
  "nbformat_minor": 0,
  "metadata": {
    "colab": {
      "name": "24/06/19(1).ipynb",
      "version": "0.3.2",
      "provenance": [],
      "collapsed_sections": [],
      "include_colab_link": true
    },
    "kernelspec": {
      "name": "python3",
      "display_name": "Python 3"
    }
  },
  "cells": [
    {
      "cell_type": "markdown",
      "metadata": {
        "id": "view-in-github",
        "colab_type": "text"
      },
      "source": [
        "<a href=\"https://colab.research.google.com/github/Akash-Varma-0/Python/blob/master/24_06_19(1).ipynb\" target=\"_parent\"><img src=\"https://colab.research.google.com/assets/colab-badge.svg\" alt=\"Open In Colab\"/></a>"
      ]
    },
    {
      "cell_type": "markdown",
      "metadata": {
        "id": "Sf1giTMdP-mm",
        "colab_type": "text"
      },
      "source": [
        "##Data Structures\n",
        "\n",
        "####Searching the data\n",
        "            ###### Linear Search\n",
        "            ###### Binary search\n"
      ]
    },
    {
      "cell_type": "markdown",
      "metadata": {
        "id": "6RonF8A3SDBR",
        "colab_type": "text"
      },
      "source": [
        "###Linear Search\n",
        "This can be applied on sorted / unsorted list\n",
        "\n",
        "This can be applied on unique / duplicate list"
      ]
    },
    {
      "cell_type": "code",
      "metadata": {
        "id": "W6sx2m42SS_Q",
        "colab_type": "code",
        "outputId": "3a94d5f8-958b-4cfe-bbee-b3c7c313a83d",
        "colab": {
          "base_uri": "https://localhost:8080/",
          "height": 35
        }
      },
      "source": [
        "def linearsearch(a,taritem):\n",
        "  flag=0\n",
        "  for i in range(len(a)):\n",
        "    if a[i]==taritem:\n",
        "      flag=1;\n",
        "      break\n",
        "  if(flag!=0):\n",
        "    print('Target item is found')\n",
        "  else:\n",
        "    print('Target item is not found')\n",
        "a=[16,2,12,6,9,7,1]\n",
        "linearsearch(a,7)"
      ],
      "execution_count": 0,
      "outputs": [
        {
          "output_type": "stream",
          "text": [
            "Target item is found\n"
          ],
          "name": "stdout"
        }
      ]
    },
    {
      "cell_type": "markdown",
      "metadata": {
        "id": "vYFxmBWzV_2B",
        "colab_type": "text"
      },
      "source": [
        "####Linear Search\n",
        "\n",
        "Making the list duplicate"
      ]
    },
    {
      "cell_type": "code",
      "metadata": {
        "id": "XC7ogPUzWKE6",
        "colab_type": "code",
        "outputId": "97fd135c-4f02-4dd7-dbdf-bcf8517ce6f2",
        "colab": {
          "base_uri": "https://localhost:8080/",
          "height": 35
        }
      },
      "source": [
        "def linearsearchduplicate(a,taritem):\n",
        "  flag=0\n",
        "  for i in range(len(a)):\n",
        "    if a[i]==taritem:\n",
        "      flag=flag+1\n",
        "      \n",
        "  print(flag)\n",
        "a=[9,1,6,1,5,9,15,16]\n",
        "linearsearchduplicate(a,9)"
      ],
      "execution_count": 0,
      "outputs": [
        {
          "output_type": "stream",
          "text": [
            "2\n"
          ],
          "name": "stdout"
        }
      ]
    },
    {
      "cell_type": "markdown",
      "metadata": {
        "id": "SHe9au3rqGo1",
        "colab_type": "text"
      },
      "source": [
        "###Linear Search Examples\n",
        "\n",
        "####Example 1:\n",
        "\n",
        "Input: List\n",
        "\n",
        "Output: Indexes of target item\n",
        "\n",
        "Test Cases:\n",
        "[1,5,9,6,5,15,12,5], tar= 5 ----- 1 4 7"
      ]
    },
    {
      "cell_type": "code",
      "metadata": {
        "id": "Sqac5ZDIqqBm",
        "colab_type": "code",
        "outputId": "c6ed03db-5963-4e6e-c2e4-47f7a59210e8",
        "colab": {
          "base_uri": "https://localhost:8080/",
          "height": 35
        }
      },
      "source": [
        "def linearexample(a,taritem):\n",
        "  flag=0\n",
        "  for i in range(len(a)):\n",
        "    if a[i]==taritem:\n",
        "      flag=i\n",
        "      print(flag, end = \" \")\n",
        "a=[1,5,9,6,5,15,12,5]\n",
        "linearexample(a,5)"
      ],
      "execution_count": 0,
      "outputs": [
        {
          "output_type": "stream",
          "text": [
            "1 4 7 "
          ],
          "name": "stdout"
        }
      ]
    },
    {
      "cell_type": "markdown",
      "metadata": {
        "id": "InxdYIj1stsF",
        "colab_type": "text"
      },
      "source": [
        "###Linear Search Examples\n",
        "\n",
        "####Example 2:\n",
        "\n",
        "Input: List\n",
        "\n",
        "Output:A sequence of character\n",
        "\n",
        "Test Cases:\n",
        "[1,5,9,6,5,15,12,5], tar= 5 ----- !! !!!!! !!!!!!!!"
      ]
    },
    {
      "cell_type": "code",
      "metadata": {
        "id": "8i-2IpIDtWKB",
        "colab_type": "code",
        "outputId": "516fe5e0-d90b-456d-f1bf-750d984dfb26",
        "colab": {
          "base_uri": "https://localhost:8080/",
          "height": 35
        }
      },
      "source": [
        "def linearexample2(a,taritem):\n",
        "  flag=0\n",
        "  for i in range(len(a)):\n",
        "    if a[i]==taritem:\n",
        "      while(flag<=i):\n",
        "        print('!', end = '')\n",
        "        flag+=1\n",
        "    print(end = ' ')\n",
        "    flag=0\n",
        "    \n",
        "a=[1,5,9,6,5,15,12,5]\n",
        "linearexample2(a,5)"
      ],
      "execution_count": 0,
      "outputs": [
        {
          "output_type": "stream",
          "text": [
            " !!   !!!!!   !!!!!!!! "
          ],
          "name": "stdout"
        }
      ]
    },
    {
      "cell_type": "markdown",
      "metadata": {
        "id": "ftxiyUvOx7Ps",
        "colab_type": "text"
      },
      "source": [
        "###Linear Search Examples\n",
        "\n",
        "####Example 3:\n",
        "\n",
        "Input: List\n",
        "\n",
        "Output:As per the given\n",
        "\n",
        "Test Cases:\n",
        "# [15,12,2,9,18,36,45]      -----  60\n",
        "\n",
        "A List item should be perfect multiple of 3 and 5\n",
        "\n",
        "sum of all the list items which is perfect multiple of 3 and 5"
      ]
    },
    {
      "cell_type": "code",
      "metadata": {
        "id": "Nrv714fDy_3_",
        "colab_type": "code",
        "outputId": "38ac8901-7c5d-4d09-d710-9c6ffcf94996",
        "colab": {
          "base_uri": "https://localhost:8080/",
          "height": 35
        }
      },
      "source": [
        "def multiply(a):\n",
        "  sum=0\n",
        "  for i in range(len(a)):\n",
        "    if(a[i]%3==0 and a[i]%5==0):\n",
        "      sum=sum+a[i]\n",
        "  print(sum)\n",
        "a=[15,12,2,9,18,36,45]\n",
        "multiply(a)"
      ],
      "execution_count": 0,
      "outputs": [
        {
          "output_type": "stream",
          "text": [
            "60\n"
          ],
          "name": "stdout"
        }
      ]
    },
    {
      "cell_type": "markdown",
      "metadata": {
        "id": "sEihkuFD2QOJ",
        "colab_type": "text"
      },
      "source": [
        "###Linear Search Examples\n",
        "\n",
        "####Example 4:\n",
        "\n",
        "Input: List\n",
        "\n",
        "Output:Formatted Output\n",
        "\n",
        "Test Cases:\n",
        "[1,2,3,4,5] ----- 1 3 8 15 5"
      ]
    },
    {
      "cell_type": "code",
      "metadata": {
        "id": "cv7r8zGl2yWc",
        "colab_type": "code",
        "outputId": "d847ffd6-80af-43a9-809a-4abcb8e5e015",
        "colab": {
          "base_uri": "https://localhost:8080/",
          "height": 35
        }
      },
      "source": [
        "def linearformattedoutput(a):\n",
        "  for i in range(len(a)):\n",
        "    if i==0 or i==(len(a)-1):\n",
        "      print(a[i],end = \" \")\n",
        "    else:\n",
        "      print(a[i-1]*a[i+1], end = \" \")\n",
        "a=[1,2,3,4,5]\n",
        "linearformattedoutput(a)"
      ],
      "execution_count": 0,
      "outputs": [
        {
          "output_type": "stream",
          "text": [
            "1 3 8 15 5 "
          ],
          "name": "stdout"
        }
      ]
    },
    {
      "cell_type": "markdown",
      "metadata": {
        "id": "JpICaVdP6xyB",
        "colab_type": "text"
      },
      "source": [
        "###Linear Search Examples\n",
        "\n",
        "####Example 5:\n",
        "\n",
        "Input: List\n",
        "\n",
        "Output:Formatted Output\n",
        "\n",
        "Test Cases:\n",
        "[1,6,9,4,16,19,22] ----- 1  9  19  22\n",
        "\n",
        "**First and Last items to be printed as it is \n",
        "\n",
        "**For the middle items need to check both sides of the numbers is even or not, if it is even then print that item otherwise skip that item  "
      ]
    },
    {
      "cell_type": "code",
      "metadata": {
        "id": "ygZL9ZVa7ApC",
        "colab_type": "code",
        "outputId": "8a0062e8-704e-4369-e4a7-859b85cd60e2",
        "colab": {
          "base_uri": "https://localhost:8080/",
          "height": 35
        }
      },
      "source": [
        "def linearformattedoutput(a):\n",
        "  for i in range(len(a)):\n",
        "    if i==0 or i==(len(a)-1):\n",
        "      print(a[i],end = \" \")\n",
        "    elif(a[i-1]%2==0 and a[i+1]%2==0):\n",
        "      print(a[i], end = \" \")\n",
        "a=[1,6,9,4,16,19,22]\n",
        "linearformattedoutput(a)"
      ],
      "execution_count": 0,
      "outputs": [
        {
          "output_type": "stream",
          "text": [
            "1 9 19 22 "
          ],
          "name": "stdout"
        }
      ]
    },
    {
      "cell_type": "markdown",
      "metadata": {
        "id": "qPe6-h6u_Pmq",
        "colab_type": "text"
      },
      "source": [
        "###Linear Search Examples\n",
        "\n",
        "####Example 6:\n",
        "\n",
        "Input: A Number\n",
        "\n",
        "Output:List\n",
        "\n",
        "Test Cases:\n",
        "\n",
        "14569 -- [1,4,5,6,9]\n",
        "\n",
        "1974 -- [1,9,7,4]"
      ]
    },
    {
      "cell_type": "code",
      "metadata": {
        "id": "ymFGulbi_n6a",
        "colab_type": "code",
        "outputId": "ac8e533c-9091-4040-b82a-f71486d85f77",
        "colab": {
          "base_uri": "https://localhost:8080/",
          "height": 52
        }
      },
      "source": [
        "def numbertolist(n):\n",
        "  lst = []\n",
        "  while n !=0:\n",
        "    r=n%10\n",
        "    lst.append(r)\n",
        "    n=n//10\n",
        "  lst.reverse()\n",
        "  print(lst)\n",
        "n=int(input('Enter a number'))\n",
        "numbertolist(n)"
      ],
      "execution_count": 0,
      "outputs": [
        {
          "output_type": "stream",
          "text": [
            "Enter a number14569\n",
            "[1, 4, 5, 6, 9]\n"
          ],
          "name": "stdout"
        }
      ]
    },
    {
      "cell_type": "code",
      "metadata": {
        "id": "mPRKWn9aIWng",
        "colab_type": "code",
        "outputId": "7aa8e70e-256a-4117-b451-f4c833d8862c",
        "colab": {
          "base_uri": "https://localhost:8080/",
          "height": 52
        }
      },
      "source": [
        "def numbertolist(n):\n",
        "  lst = []\n",
        "  while n !=0:\n",
        "    lst.append(n%10)\n",
        "    n=n//10\n",
        "  lst.reverse()\n",
        "  return lst\n",
        "n=int(input('Enter a number'))\n",
        "print(numbertolist(n))"
      ],
      "execution_count": 0,
      "outputs": [
        {
          "output_type": "stream",
          "text": [
            "Enter a number14569\n",
            "[1, 4, 5, 6, 9]\n"
          ],
          "name": "stdout"
        }
      ]
    },
    {
      "cell_type": "markdown",
      "metadata": {
        "id": "wVKB_a1pIvov",
        "colab_type": "text"
      },
      "source": [
        "###List to Number Conversion\n",
        "\n",
        "1.[1,4,5,6,9] -- 14569\n",
        "\n",
        "2.[1,4,5,6,9] -- 46(have to consider only even in the list)\n",
        "\n",
        "3.14569 -- [4,6](have to consider only even digits to list)\n",
        "\n",
        "4.[1,2,3,4,5] -- [1,4,3,16,5]\n",
        "\n",
        "5.[15,19,12,16,4] -- [15,34,31,28,4]"
      ]
    },
    {
      "cell_type": "code",
      "metadata": {
        "id": "rnUoK03lJfJK",
        "colab_type": "code",
        "outputId": "08173f49-ecba-44bc-948f-2971d1987973",
        "colab": {
          "base_uri": "https://localhost:8080/",
          "height": 139
        }
      },
      "source": [
        "i=0\n",
        "def listtonumber(a):\n",
        "   sum=0\n",
        "   for i in range(n):\n",
        "       sum=sum*10+a[i]\n",
        "   print(sum)\n",
        "   return\n",
        "n=int(input('enter size'))\n",
        "a=[int(input())for i in range(n)]\n",
        "listtonumber(a)"
      ],
      "execution_count": 0,
      "outputs": [
        {
          "output_type": "stream",
          "text": [
            "enter size5\n",
            "1\n",
            "4\n",
            "5\n",
            "6\n",
            "9\n",
            "14569\n"
          ],
          "name": "stdout"
        }
      ]
    },
    {
      "cell_type": "code",
      "metadata": {
        "id": "gtKIvtfYT-1C",
        "colab_type": "code",
        "outputId": "b3a79dab-d6b8-4f01-87f9-2fc773aa8413",
        "colab": {
          "base_uri": "https://localhost:8080/",
          "height": 139
        }
      },
      "source": [
        "i=0\n",
        "def listeven(a):\n",
        "   sum=0\n",
        "   for i in range(n):\n",
        "       if(a[i]%2==0):\n",
        "           sum=sum*10+a[i]\n",
        "   print(sum)\n",
        "   return\n",
        "n=int(input('enter size'))\n",
        "a=[int(input())for i in range(n)]\n",
        "listeven(a)"
      ],
      "execution_count": 0,
      "outputs": [
        {
          "output_type": "stream",
          "text": [
            "enter size5\n",
            "1\n",
            "4\n",
            "5\n",
            "6\n",
            "9\n",
            "46\n"
          ],
          "name": "stdout"
        }
      ]
    },
    {
      "cell_type": "code",
      "metadata": {
        "id": "a6etlEUzURPq",
        "colab_type": "code",
        "outputId": "fc24af36-73df-40c9-f40c-c5d23fe444a6",
        "colab": {
          "base_uri": "https://localhost:8080/",
          "height": 52
        }
      },
      "source": [
        "def numbertolisteven(an):\n",
        "   a=[]\n",
        "   while(an!=0):\n",
        "       if(an%10%2==0):\n",
        "           a.append(an%10)\n",
        "       an=an//10\n",
        "   a.reverse()\n",
        "   print (a)\n",
        "an=int(input())\n",
        "numbertolisteven(an)"
      ],
      "execution_count": 0,
      "outputs": [
        {
          "output_type": "stream",
          "text": [
            "14569\n",
            "[4, 6]\n"
          ],
          "name": "stdout"
        }
      ]
    },
    {
      "cell_type": "code",
      "metadata": {
        "id": "4Wgq5YxyrkrV",
        "colab_type": "code",
        "colab": {
          "base_uri": "https://localhost:8080/",
          "height": 104
        },
        "outputId": "8fe03fbd-9c5a-4229-86ff-dca15636c23c"
      },
      "source": [
        "\n",
        "def nocon(a,n):\n",
        "    for x in range(len(a)):\n",
        "        t=0;\n",
        "        if(x==0 or x==(len(a)-1)):\n",
        "            print(a[x]);\n",
        "        elif(a[x]%2==0):\n",
        "            t=a[x]*a[x];\n",
        "            print(t);\n",
        "        else:\n",
        "            print(a[x])\n",
        "        \n",
        "            \n",
        "   \n",
        "a=[1,2,3,4,5];\n",
        "\n",
        "nocon(a,5);"
      ],
      "execution_count": 1,
      "outputs": [
        {
          "output_type": "stream",
          "text": [
            "1\n",
            "4\n",
            "3\n",
            "16\n",
            "5\n"
          ],
          "name": "stdout"
        }
      ]
    },
    {
      "cell_type": "code",
      "metadata": {
        "id": "Xfu67eBsrv8V",
        "colab_type": "code",
        "colab": {
          "base_uri": "https://localhost:8080/",
          "height": 104
        },
        "outputId": "9f15509e-1cfb-4481-89ca-dcf891466940"
      },
      "source": [
        "def nocon(a,n):\n",
        "    for x in range(len(a)):\n",
        "        t=0;\n",
        "        if(x==0 or x==(len(a)-1)):\n",
        "            print(a[x]);\n",
        "        else:\n",
        "            t=a[x]+a[x-1];\n",
        "            print(t);  \n",
        "   \n",
        "a=[15,19,12,16,4];\n",
        "\n",
        "nocon(a,5);"
      ],
      "execution_count": 2,
      "outputs": [
        {
          "output_type": "stream",
          "text": [
            "15\n",
            "34\n",
            "31\n",
            "28\n",
            "4\n"
          ],
          "name": "stdout"
        }
      ]
    }
  ]
}