{
  "nbformat": 4,
  "nbformat_minor": 0,
  "metadata": {
    "colab": {
      "name": "22/06/19.ipynb",
      "version": "0.3.2",
      "provenance": [],
      "collapsed_sections": [],
      "include_colab_link": true
    },
    "kernelspec": {
      "name": "python3",
      "display_name": "Python 3"
    }
  },
  "cells": [
    {
      "cell_type": "markdown",
      "metadata": {
        "id": "view-in-github",
        "colab_type": "text"
      },
      "source": [
        "<a href=\"https://colab.research.google.com/github/Akash-Varma-0/Python/blob/master/22_06_19.ipynb\" target=\"_parent\"><img src=\"https://colab.research.google.com/assets/colab-badge.svg\" alt=\"Open In Colab\"/></a>"
      ]
    },
    {
      "cell_type": "code",
      "metadata": {
        "id": "XI4DWyw5Wm6A",
        "colab_type": "code",
        "colab": {}
      },
      "source": [
        ""
      ],
      "execution_count": 0,
      "outputs": []
    },
    {
      "cell_type": "markdown",
      "metadata": {
        "id": "y_X4lrdvW5GD",
        "colab_type": "text"
      },
      "source": [
        "# control flow statements"
      ]
    },
    {
      "cell_type": "markdown",
      "metadata": {
        "id": "DraH2hf0XBul",
        "colab_type": "text"
      },
      "source": [
        "## if condition\n",
        "\n",
        "###if(condition):\n",
        "###statement"
      ]
    },
    {
      "cell_type": "markdown",
      "metadata": {
        "id": "NzgNEsKLYR-p",
        "colab_type": "text"
      },
      "source": [
        "#Example 1"
      ]
    },
    {
      "cell_type": "code",
      "metadata": {
        "id": "dy5qTwLPXkwE",
        "colab_type": "code",
        "colab": {
          "base_uri": "https://localhost:8080/",
          "height": 34
        },
        "outputId": "1a30d87d-48ee-4c3e-8d78-60a03ae1cc63"
      },
      "source": [
        "x = 10;\n",
        "if(x<15):\n",
        "  print(\"The number is less than 15\");"
      ],
      "execution_count": 3,
      "outputs": [
        {
          "output_type": "stream",
          "text": [
            "The number is less than 15\n"
          ],
          "name": "stdout"
        }
      ]
    },
    {
      "cell_type": "markdown",
      "metadata": {
        "id": "qFBftc1rYNzh",
        "colab_type": "text"
      },
      "source": [
        "#Example 2"
      ]
    },
    {
      "cell_type": "code",
      "metadata": {
        "id": "H6DsWWBrYQXx",
        "colab_type": "code",
        "colab": {}
      },
      "source": [
        "x = 10;\n",
        "if(x>15):\n",
        "  print(\"Hello\")"
      ],
      "execution_count": 0,
      "outputs": []
    },
    {
      "cell_type": "markdown",
      "metadata": {
        "id": "iUMNcF3VaQN1",
        "colab_type": "text"
      },
      "source": [
        "#Example 3"
      ]
    },
    {
      "cell_type": "code",
      "metadata": {
        "id": "btRPzSUsadaB",
        "colab_type": "code",
        "colab": {
          "base_uri": "https://localhost:8080/",
          "height": 34
        },
        "outputId": "48506e12-f200-47d8-fcd7-a3998818c00c"
      },
      "source": [
        "x = 10;\n",
        "if(x>15):\n",
        "  print(\"Hello Good Morning\");\n",
        "else:\n",
        "  print(\"Hello Good Afternoon\");"
      ],
      "execution_count": 6,
      "outputs": [
        {
          "output_type": "stream",
          "text": [
            "Hello Good Afternoon\n"
          ],
          "name": "stdout"
        }
      ]
    },
    {
      "cell_type": "markdown",
      "metadata": {
        "id": "D60j4Ooab5Az",
        "colab_type": "text"
      },
      "source": [
        "#Example 4\n",
        "####x and y are the inputs and we have to find the large number between two numbers"
      ]
    },
    {
      "cell_type": "code",
      "metadata": {
        "id": "lpyin7uqcQfC",
        "colab_type": "code",
        "colab": {
          "base_uri": "https://localhost:8080/",
          "height": 102
        },
        "outputId": "44c92d14-30de-4a3b-f0a8-2ce306049208"
      },
      "source": [
        "x=input('enter x\\n')\n",
        "y=input('enter y\\n')\n",
        "if(x>y):\n",
        "  print(x+' is greater than '+y);\n",
        "else:\n",
        "  print(y+' is greater than '+x);"
      ],
      "execution_count": 15,
      "outputs": [
        {
          "output_type": "stream",
          "text": [
            "enter x\n",
            "7\n",
            "enter y\n",
            "9\n",
            "9 is greater than 7\n"
          ],
          "name": "stdout"
        }
      ]
    },
    {
      "cell_type": "markdown",
      "metadata": {
        "id": "5qo5mL6UehR8",
        "colab_type": "text"
      },
      "source": [
        "#Example 5\n",
        "####Need to two numbers as input if both the numbers are same then  output must be square a first number if not the output must be muplication of both numbers"
      ]
    },
    {
      "cell_type": "code",
      "metadata": {
        "id": "_xYXuOxdfNB8",
        "colab_type": "code",
        "colab": {
          "base_uri": "https://localhost:8080/",
          "height": 68
        },
        "outputId": "76b2f9a6-99e9-42aa-c880-5ccfa0fbbf3f"
      },
      "source": [
        "x=int(input('enter x\\t'))\n",
        "y=int(input('enter y\\t'))\n",
        "if(x==y):\n",
        "  print(x*x)\n",
        "else:\n",
        "  print(x*y)"
      ],
      "execution_count": 28,
      "outputs": [
        {
          "output_type": "stream",
          "text": [
            "enter x\t2\n",
            "enter y\t4\n",
            "8\n"
          ],
          "name": "stdout"
        }
      ]
    },
    {
      "cell_type": "markdown",
      "metadata": {
        "id": "LQkKJH7Tg6U5",
        "colab_type": "text"
      },
      "source": [
        "#Example 6\n",
        "####Only one number as input and we looking for whether given number is zero ,postive or negative number"
      ]
    },
    {
      "cell_type": "code",
      "metadata": {
        "id": "EdDoD5kYhsHv",
        "colab_type": "code",
        "colab": {
          "base_uri": "https://localhost:8080/",
          "height": 51
        },
        "outputId": "e1b73031-6954-4fae-d90e-d8c6642d140e"
      },
      "source": [
        "x=int(input('enter a number'))\n",
        "if(x<0):\n",
        "  print('It is a Negative Number')\n",
        "elif(x>0):\n",
        "  print('It is a Positive Number')\n",
        "elif(x==0):\n",
        "  print('It is Zero')"
      ],
      "execution_count": 29,
      "outputs": [
        {
          "output_type": "stream",
          "text": [
            "enter a number7\n",
            "It is a Positive Number\n"
          ],
          "name": "stdout"
        }
      ]
    },
    {
      "cell_type": "markdown",
      "metadata": {
        "id": "zfEpnY0RkSSE",
        "colab_type": "text"
      },
      "source": [
        "#Loop Statement -- While\n",
        "####Syntax:- While (Condition): Loop Statements Increment / Decrement\n",
        "####The Loop will get executes as long as the condition is returns true  "
      ]
    },
    {
      "cell_type": "markdown",
      "metadata": {
        "id": "8fLc-oNEmDVW",
        "colab_type": "text"
      },
      "source": [
        "#Example 1"
      ]
    },
    {
      "cell_type": "code",
      "metadata": {
        "id": "6qjXDY9tkzXi",
        "colab_type": "code",
        "colab": {
          "base_uri": "https://localhost:8080/",
          "height": 187
        },
        "outputId": "65b4ccaf-fe85-4a64-c5f8-db54da4bfc48"
      },
      "source": [
        "n=1\n",
        "while(n<=10):\n",
        "  print(n)\n",
        "  n=n+1"
      ],
      "execution_count": 31,
      "outputs": [
        {
          "output_type": "stream",
          "text": [
            "1\n",
            "2\n",
            "3\n",
            "4\n",
            "5\n",
            "6\n",
            "7\n",
            "8\n",
            "9\n",
            "10\n"
          ],
          "name": "stdout"
        }
      ]
    },
    {
      "cell_type": "markdown",
      "metadata": {
        "id": "lWZyhQbUlxqv",
        "colab_type": "text"
      },
      "source": [
        "#Example 2\n",
        "Print the numbers from 10 to1"
      ]
    },
    {
      "cell_type": "code",
      "metadata": {
        "id": "aH3HGtb-mHDH",
        "colab_type": "code",
        "colab": {
          "base_uri": "https://localhost:8080/",
          "height": 187
        },
        "outputId": "e1f31ee0-c17e-4213-f5ba-8ddc706894ae"
      },
      "source": [
        "n=10\n",
        "while(n>=1):\n",
        "  print(n)\n",
        "  n=n-1"
      ],
      "execution_count": 32,
      "outputs": [
        {
          "output_type": "stream",
          "text": [
            "10\n",
            "9\n",
            "8\n",
            "7\n",
            "6\n",
            "5\n",
            "4\n",
            "3\n",
            "2\n",
            "1\n"
          ],
          "name": "stdout"
        }
      ]
    },
    {
      "cell_type": "markdown",
      "metadata": {
        "id": "hrkvRETzmZDH",
        "colab_type": "text"
      },
      "source": [
        "#Example 3\n",
        "Print the numbers from -22 to -45"
      ]
    },
    {
      "cell_type": "code",
      "metadata": {
        "id": "WS4A9goDmcOf",
        "colab_type": "code",
        "colab": {
          "base_uri": "https://localhost:8080/",
          "height": 425
        },
        "outputId": "1401a8ec-d644-4c2e-de9d-5554306b81ce"
      },
      "source": [
        "n=-22\n",
        "while(n>=-45):\n",
        "  print(n)\n",
        "  n=n-1"
      ],
      "execution_count": 36,
      "outputs": [
        {
          "output_type": "stream",
          "text": [
            "-22\n",
            "-23\n",
            "-24\n",
            "-25\n",
            "-26\n",
            "-27\n",
            "-28\n",
            "-29\n",
            "-30\n",
            "-31\n",
            "-32\n",
            "-33\n",
            "-34\n",
            "-35\n",
            "-36\n",
            "-37\n",
            "-38\n",
            "-39\n",
            "-40\n",
            "-41\n",
            "-42\n",
            "-43\n",
            "-44\n",
            "-45\n"
          ],
          "name": "stdout"
        }
      ]
    },
    {
      "cell_type": "markdown",
      "metadata": {
        "id": "L4KtOGvTn0bU",
        "colab_type": "text"
      },
      "source": [
        "#Example 4\n",
        "Print the sum of even numbers between 1 to100"
      ]
    },
    {
      "cell_type": "code",
      "metadata": {
        "id": "i46nc7-mn-8k",
        "colab_type": "code",
        "colab": {
          "base_uri": "https://localhost:8080/",
          "height": 34
        },
        "outputId": "a175d2fe-b08a-4366-9f25-b717a25af7a0"
      },
      "source": [
        "sum=0\n",
        "i=0\n",
        "while(i<=100):\n",
        "  if(i%2==0):\n",
        "    sum=sum+i\n",
        "  i=i+1\n",
        "print('Sum is {} '.format(sum))"
      ],
      "execution_count": 38,
      "outputs": [
        {
          "output_type": "stream",
          "text": [
            "Sum is 2550 \n"
          ],
          "name": "stdout"
        }
      ]
    },
    {
      "cell_type": "markdown",
      "metadata": {
        "id": "g_iNsb7Mrr4V",
        "colab_type": "text"
      },
      "source": [
        "#Example 5\n",
        "#Input :\n",
        "              Number\n",
        "#Output:\n",
        "               Extract the digits of the number from right side direction\n",
        "##Test Case :\n",
        "                   145     --    5 4 1\n",
        "                   1889    --    9 8 8 1"
      ]
    },
    {
      "cell_type": "code",
      "metadata": {
        "id": "RXTs3gG5schj",
        "colab_type": "code",
        "colab": {
          "base_uri": "https://localhost:8080/",
          "height": 85
        },
        "outputId": "30127047-e718-4afc-9dfa-e035e77d4495"
      },
      "source": [
        "x=int(input('Enter number\\t'))\n",
        "while(x!=0):\n",
        "  y=x%10\n",
        "  print(y)\n",
        "  x=x//10"
      ],
      "execution_count": 41,
      "outputs": [
        {
          "output_type": "stream",
          "text": [
            "Enter number\t145\n",
            "5\n",
            "4\n",
            "1\n"
          ],
          "name": "stdout"
        }
      ]
    },
    {
      "cell_type": "markdown",
      "metadata": {
        "id": "esSCqX9E1P5W",
        "colab_type": "text"
      },
      "source": [
        "#Example 6\n",
        "#Input:\n",
        "            A number\n",
        "#Output:\n",
        "            You need to add the sum of even numbers in a given number\n",
        "#Test Cases:\n",
        "                       145     --     4\n",
        "                       1889    --     16\n",
        "                       1951    --     0\n",
        "                       1235    --     2"
      ]
    },
    {
      "cell_type": "code",
      "metadata": {
        "id": "npAcnAjU1-Zz",
        "colab_type": "code",
        "colab": {
          "base_uri": "https://localhost:8080/",
          "height": 51
        },
        "outputId": "8e59eb46-5b9a-4181-a1c1-60002d6c9f6b"
      },
      "source": [
        "x=int(input('Enter a number\\t'))\n",
        "sum=0\n",
        "while(x>0):\n",
        "  r=x%10\n",
        "  if(r%2==0):\n",
        "    sum=sum+r\n",
        "  x=x//10\n",
        "print(sum)"
      ],
      "execution_count": 48,
      "outputs": [
        {
          "output_type": "stream",
          "text": [
            "Enter a number\t1889\n",
            "16\n"
          ],
          "name": "stdout"
        }
      ]
    },
    {
      "cell_type": "markdown",
      "metadata": {
        "id": "aw3QBIFC5tTz",
        "colab_type": "text"
      },
      "source": [
        "#Example 7\n",
        "##Input:\n",
        "               A Number\n",
        "##Output:\n",
        "                 Respective name to digit\n",
        "###Test Cases:\n",
        "                             145     --      Five Four One\n",
        "                             1889    --      Nine Eight Eight One\n",
        "                             120     --      Zero Two One"
      ]
    },
    {
      "cell_type": "code",
      "metadata": {
        "id": "bffPYWeA6c0Z",
        "colab_type": "code",
        "colab": {
          "base_uri": "https://localhost:8080/",
          "height": 85
        },
        "outputId": "0c7a13c0-8d5c-4967-9f66-87c433f5aaad"
      },
      "source": [
        "x=int(input('Enter a Number'))\n",
        "while(x>0):\n",
        "  y=x%10\n",
        "  if(y==0):\n",
        "    print(\"Zero\")\n",
        "  elif(y==1):\n",
        "    print(\"One\")\n",
        "  elif(y==2):\n",
        "    print(\"Two\")\n",
        "  elif(y==3):\n",
        "    print(\"Three\")\n",
        "  elif(y==4):\n",
        "    print(\"Four\")\n",
        "  elif(y==5):\n",
        "    print(\"Five\")\n",
        "  elif(y==6):\n",
        "    print(\"Six\") \n",
        "  elif(y==7):\n",
        "    print(\"Seven\")\n",
        "  elif(y==8):\n",
        "    print(\"Eight\")\n",
        "  elif(y==9): \n",
        "    print(\"Nine\")\n",
        "  x=x//10"
      ],
      "execution_count": 53,
      "outputs": [
        {
          "output_type": "stream",
          "text": [
            "Enter a Number120\n",
            "Zero\n",
            "Two\n",
            "One\n"
          ],
          "name": "stdout"
        }
      ]
    },
    {
      "cell_type": "markdown",
      "metadata": {
        "id": "m1JGyVu4_cGJ",
        "colab_type": "text"
      },
      "source": [
        "#Example 8\n",
        "##Input\n",
        "              Three Numbers\n",
        "##Output\n",
        "              How many time the digit is repeated between 2nd and 3rd number\n",
        "###Test Cases:\n",
        "                    6,60,65        ---       6\n",
        "                    7,70,88        ---       12\n",
        "                    2,120,220      ---       40"
      ]
    },
    {
      "cell_type": "code",
      "metadata": {
        "id": "FTFOO_aFAoEO",
        "colab_type": "code",
        "colab": {
          "base_uri": "https://localhost:8080/",
          "height": 85
        },
        "outputId": "047d7a85-fcb5-414b-8be3-c2c3b599a0f0"
      },
      "source": [
        "a=int(input('Enter 1st number'))\n",
        "b=int(input('Enter 2nd number'))\n",
        "c=int(input('Enter 3rd number'))\n",
        "count=0\n",
        "while(b<=c):\n",
        "  x=b\n",
        "  while(x>0):\n",
        "    r=x%10\n",
        "    x=x//10\n",
        "    if(r==a):\n",
        "      count=count+1\n",
        "  b=b+1\n",
        "print(count)"
      ],
      "execution_count": 57,
      "outputs": [
        {
          "output_type": "stream",
          "text": [
            "Enter 1st number7\n",
            "Enter 2nd number70\n",
            "Enter 3rd number88\n",
            "12\n"
          ],
          "name": "stdout"
        }
      ]
    },
    {
      "cell_type": "code",
      "metadata": {
        "id": "HYEjaicXDkou",
        "colab_type": "code",
        "colab": {}
      },
      "source": [
        "\n"
      ],
      "execution_count": 0,
      "outputs": []
    }
  ]
}