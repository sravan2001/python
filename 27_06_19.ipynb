{
  "nbformat": 4,
  "nbformat_minor": 0,
  "metadata": {
    "colab": {
      "name": "27/06/19.ipynb",
      "version": "0.3.2",
      "provenance": [],
      "collapsed_sections": [],
      "include_colab_link": true
    },
    "kernelspec": {
      "name": "python3",
      "display_name": "Python 3"
    }
  },
  "cells": [
    {
      "cell_type": "markdown",
      "metadata": {
        "id": "view-in-github",
        "colab_type": "text"
      },
      "source": [
        "<a href=\"https://colab.research.google.com/github/Akash-Varma-0/Python/blob/master/27_06_19.ipynb\" target=\"_parent\"><img src=\"https://colab.research.google.com/assets/colab-badge.svg\" alt=\"Open In Colab\"/></a>"
      ]
    },
    {
      "cell_type": "markdown",
      "metadata": {
        "id": "ef9zNAfWCiPz",
        "colab_type": "text"
      },
      "source": [
        "###File Handling in Python\n",
        "#####File:- Document containing information residing on the permanent storage types -- Doc, Pdf, Text, Csv Files and etc..\n",
        "\n",
        "File I/O: Input and Output\n",
        "                 Keyboard as input\n",
        "                 \n",
        "                 Screen as output\n",
        "                 \n",
        "                 Read/Write\n",
        "                 \n",
        "                 open() -- Open the file\n",
        "                 close() -- Close the file\n",
        "                 \n",
        "                 open(filename,'Mode of the file')\n",
        "                 \n",
        "'r'  -- It opens file for reading\n",
        "\n",
        "'w' -- The mode open the file writing\n",
        "         If the file name is not present,\n",
        "         it creates a new file and write some data into it\n",
        "         \n",
        "         If the file already existing virtual or local dir then the data will be overwritten\n",
        "         \n",
        "'a' -- append mode also creates the file if the file is not exists\n",
        "\n"
      ]
    },
    {
      "cell_type": "code",
      "metadata": {
        "id": "xjgNn_WiDcqX",
        "colab_type": "code",
        "outputId": "88817dd5-8342-4fa1-8212-1b8a78d087ba",
        "colab": {
          "base_uri": "https://localhost:8080/",
          "height": 35
        }
      },
      "source": [
        "#Function to Create a file and write some data\n",
        "def createfile(filename):\n",
        "  f=open(filename,'w')\n",
        "  for i in range(10):\n",
        "    f.write('This is %d Line\\n' % i)\n",
        "  print('File is created successfully and Data is written')\n",
        "  f.close()\n",
        "  return\n",
        "createfile('file2.txt')"
      ],
      "execution_count": 0,
      "outputs": [
        {
          "output_type": "stream",
          "text": [
            "File is created successfully and Data is written\n"
          ],
          "name": "stdout"
        }
      ]
    },
    {
      "cell_type": "code",
      "metadata": {
        "id": "oKBW-AlrGmT8",
        "colab_type": "code",
        "outputId": "0b337f50-f00c-4c37-cb5d-c6e7abf1e184",
        "colab": {
          "base_uri": "https://localhost:8080/",
          "height": 208
        }
      },
      "source": [
        "#Function reading the file data\n",
        "def readfile(filename):\n",
        "  f=open(filename,'r')\n",
        "  if f.mode == 'r':\n",
        "    x=f.read()\n",
        "    print(x)\n",
        "  f.close()\n",
        "  return\n",
        "readfile('file2.txt')"
      ],
      "execution_count": 0,
      "outputs": [
        {
          "output_type": "stream",
          "text": [
            "This is 0 Line\n",
            "This is 1 Line\n",
            "This is 2 Line\n",
            "This is 3 Line\n",
            "This is 4 Line\n",
            "This is 5 Line\n",
            "This is 6 Line\n",
            "This is 7 Line\n",
            "This is 8 Line\n",
            "This is 9 Line\n",
            "\n"
          ],
          "name": "stdout"
        }
      ]
    },
    {
      "cell_type": "code",
      "metadata": {
        "id": "oK4i841LJLFp",
        "colab_type": "code",
        "outputId": "a62205f8-ffce-44d8-b867-5083f8740747",
        "colab": {
          "base_uri": "https://localhost:8080/",
          "height": 35
        }
      },
      "source": [
        "def createfile(filename):\n",
        "  f=open(filename,'w')\n",
        "  for i in range(10):\n",
        "    f.write('Test %d Line\\n' % i)\n",
        "  print('File is created successfully and Data is written')\n",
        "  f.close()\n",
        "  return\n",
        "createfile('file2.txt')"
      ],
      "execution_count": 0,
      "outputs": [
        {
          "output_type": "stream",
          "text": [
            "File is created successfully and Data is written\n"
          ],
          "name": "stdout"
        }
      ]
    },
    {
      "cell_type": "code",
      "metadata": {
        "id": "jkBNeT-NXFXq",
        "colab_type": "code",
        "outputId": "ab79ca3b-d6d1-4f34-a11f-3e8a83222408",
        "colab": {
          "base_uri": "https://localhost:8080/",
          "height": 191
        }
      },
      "source": [
        "cat file2.txt"
      ],
      "execution_count": 0,
      "outputs": [
        {
          "output_type": "stream",
          "text": [
            "Test 0 Line\n",
            "Test 1 Line\n",
            "Test 2 Line\n",
            "Test 3 Line\n",
            "Test 4 Line\n",
            "Test 5 Line\n",
            "Test 6 Line\n",
            "Test 7 Line\n",
            "Test 8 Line\n",
            "Test 9 Line\n"
          ],
          "name": "stdout"
        }
      ]
    },
    {
      "cell_type": "code",
      "metadata": {
        "id": "yblJoKY5XczT",
        "colab_type": "code",
        "colab": {}
      },
      "source": [
        "#Data to append\n",
        "#Functions to append the data to existing file\n",
        "def appenddata(filename):\n",
        "  f=open(filename,'a')\n",
        "  f.write('New line 1\\n')\n",
        "  f.write('New line 2\\n')\n",
        "  f.close()\n",
        "  return\n",
        "appenddata('file2.txt')"
      ],
      "execution_count": 0,
      "outputs": []
    },
    {
      "cell_type": "code",
      "metadata": {
        "id": "CRvwZhJvYp2J",
        "colab_type": "code",
        "outputId": "69823afa-b6db-4503-e12e-703bf600f25a",
        "colab": {
          "base_uri": "https://localhost:8080/",
          "height": 225
        }
      },
      "source": [
        "cat file2.txt"
      ],
      "execution_count": 0,
      "outputs": [
        {
          "output_type": "stream",
          "text": [
            "Test 0 Line\n",
            "Test 1 Line\n",
            "Test 2 Line\n",
            "Test 3 Line\n",
            "Test 4 Line\n",
            "Test 5 Line\n",
            "Test 6 Line\n",
            "Test 7 Line\n",
            "Test 8 Line\n",
            "Test 9 Line\n",
            "New line 1\n",
            "New line 2\n"
          ],
          "name": "stdout"
        }
      ]
    },
    {
      "cell_type": "code",
      "metadata": {
        "id": "ShdK2Vn7Y3lv",
        "colab_type": "code",
        "outputId": "00162aaa-0887-4f20-f155-ecb99dd87c07",
        "colab": {
          "base_uri": "https://localhost:8080/",
          "height": 35
        }
      },
      "source": [
        "#word count using file I/O Python\n",
        "def dataanalysiswordcount(filename,word):\n",
        "  f=open(filename,'r')\n",
        "  if f.mode == 'r':\n",
        "    x=f.read()\n",
        "    lst=x.split()\n",
        "  cnt=lst.count(word)\n",
        "  return cnt\n",
        "print(dataanalysiswordcount('file2.txt','line'))"
      ],
      "execution_count": 0,
      "outputs": [
        {
          "output_type": "stream",
          "text": [
            "2\n"
          ],
          "name": "stdout"
        }
      ]
    },
    {
      "cell_type": "code",
      "metadata": {
        "id": "ZBduaehaf9YV",
        "colab_type": "code",
        "outputId": "93519899-e7f4-45b1-f147-7dcf67af87aa",
        "colab": {
          "base_uri": "https://localhost:8080/",
          "height": 35
        }
      },
      "source": [
        "#Function to count of characters in the file\n",
        "def countcharacter(filename):\n",
        "  f=open(filename,'r')\n",
        "  if f.mode=='r':\n",
        "    x=f.read()\n",
        "    lst=list(x)\n",
        "  return len(lst)\n",
        "print(countcharacter('file2.txt'))"
      ],
      "execution_count": 0,
      "outputs": [
        {
          "output_type": "stream",
          "text": [
            "142\n"
          ],
          "name": "stdout"
        }
      ]
    },
    {
      "cell_type": "code",
      "metadata": {
        "id": "SUcJ9i0niKtm",
        "colab_type": "code",
        "outputId": "bff53306-5ac8-4f42-f505-8a385b8c5f1c",
        "colab": {
          "base_uri": "https://localhost:8080/",
          "height": 35
        }
      },
      "source": [
        "#Function to count the upper case character count from the given file\n",
        "def uppercasecount(filename):\n",
        "  cntupper=0\n",
        "  f=open(filename,'r')\n",
        "  if f.mode == 'r':\n",
        "    x=f.read()\n",
        "    lst=list(x)\n",
        "  for i in lst:\n",
        "    if i.isupper():\n",
        "      cntupper +=1\n",
        "  return cntupper\n",
        "uppercasecount('file2.txt')"
      ],
      "execution_count": 0,
      "outputs": [
        {
          "output_type": "execute_result",
          "data": {
            "text/plain": [
              "22"
            ]
          },
          "metadata": {
            "tags": []
          },
          "execution_count": 72
        }
      ]
    },
    {
      "cell_type": "code",
      "metadata": {
        "id": "n0YAHl9-nTyl",
        "colab_type": "code",
        "outputId": "dc21adf7-4d89-45f4-be26-4c68deef4807",
        "colab": {
          "base_uri": "https://localhost:8080/",
          "height": 35
        }
      },
      "source": [
        "#Function to count of lines in the given file\n",
        "def countlines(filename):\n",
        "  f=open(filename,'r')\n",
        "  if f.mode == 'r':\n",
        "    x=f.read()\n",
        "    lst=x.split('\\n')\n",
        "  return(len(lst))\n",
        "countlines('file2.txt')  "
      ],
      "execution_count": 0,
      "outputs": [
        {
          "output_type": "execute_result",
          "data": {
            "text/plain": [
              "13"
            ]
          },
          "metadata": {
            "tags": []
          },
          "execution_count": 73
        }
      ]
    },
    {
      "cell_type": "markdown",
      "metadata": {
        "id": "1yA9psumstS7",
        "colab_type": "text"
      },
      "source": [
        "###Regular Expressions\n",
        "\n",
        "* Pattern Matching\n",
        "* Symbolic Notation of a pattern\n",
        "   * Pattern(RE) represents the set of the values that a given pattern\n",
        "* [0-9] --> Any Digit\n",
        "* [a-z] --> Any lower case characters\n",
        "* [A-Z] --> Any upper case characters\n",
        "* [2468] --> Any single digit multiples of 2\n",
        "* ^[0-9] --> Only single digit number\n",
        "   * ^ symbol is used for start of regular expression\n",
        "   * $ symbol is used for end of regular expression\n",
        "\n",
        "* ^[0-9]{3}$ --> Regular Expression which will accept only 3 digit number\n",
        "\n",
        "* ^[a-z]{5}$ --> It only accepts the 5 character string that to lower case characters\n",
        "\n",
        "* ^[a-zA-Z]{6}$ --> A string can be a upper / lower case chars and len of 6\n",
        "\n",
        "* ^[a-zA-Z]{6-15}$ --> A string min of  6 characters and max of 15 characters(upper and lower case chars)\n",
        "\n",
        "* ^[a-zA-Z0-9]{6-15}$ --> Upper, lower and digits\n",
        "\n",
        "* ^[6-9][0-9]{9}$ --> RE for Indian Mobile Number\n",
        "\n",
        "* ^[0][6-9][0-9]{9}$ -->RE for Indian Mobile Number\n",
        "\n",
        "* ^[+][9][1][6-9][0-9]{9}$ -->RE for Indian Mobile Number\n",
        "\n",
        "EmailID Validation:# Validation for EmailID username@domainname.extension\n",
        "\n",
        "* Username :\n",
        "    * Length will be : [6-15]\n",
        "    * No spl chars apart from _\n",
        "    * Should not begin and end with _\n",
        "    * Character set : all digits and lower case alphabets\n",
        "* Domain Name :\n",
        "    * Length of domain : [3,18]\n",
        "    * No spl characters\n",
        "    *Character set : all digits and lower case alphabets\n",
        "* Extension :\n",
        "    * Length of extension : [2,4]\n",
        "    * No spl characters\n",
        "    * Character set : Lower case characters\n",
        " \n",
        "Regular Expression for EmailID:\n",
        "             \n",
        "             ^[0-9a-z][0-9a-z._]{4,13}[0-9a-z][@][a-z0-9]{3,18}[.][a-z]{2,4}$"
      ]
    },
    {
      "cell_type": "code",
      "metadata": {
        "id": "nZHzmiX9sy9S",
        "colab_type": "code",
        "colab": {}
      },
      "source": [
        "# Regular Expression for Indian Mobile Number\n",
        "\n",
        "# Validation for EmailID username@domainname.extension\n",
        "\n",
        "#9876543210 -- First digit [6-9][0-9]\n",
        "\n",
        "#09876543210 -- First Digit Zero second digit[6-9] LAst nine digits[0-9] \n",
        "\n",
        "#+919876543210 -- First + sign, Second digit 9, third digit 1, fourth digit [6-9] and rest of the digits [0-9]"
      ],
      "execution_count": 0,
      "outputs": []
    },
    {
      "cell_type": "code",
      "metadata": {
        "id": "R1FWiKA3JW8y",
        "colab_type": "code",
        "outputId": "71417f71-9bd1-4d42-a49e-ff6df5384f31",
        "colab": {
          "base_uri": "https://localhost:8080/",
          "height": 87
        }
      },
      "source": [
        "import re\n",
        "def phonenumbervalidate(phone):\n",
        "  pattern='^[6-9][0-9]{9}$|^[0][6-9][0-9]{9}$|^[+][9][1][6-9][0-9]{9}$'\n",
        "  phone=str(phone)\n",
        "  if re.match(pattern,phone):\n",
        "    return True\n",
        "  return False\n",
        "print(phonenumbervalidate('9545246472'))\n",
        "print(phonenumbervalidate('9454845'))\n",
        "print(phonenumbervalidate('08451463549'))\n",
        "print(phonenumbervalidate('+919845146284'))"
      ],
      "execution_count": 0,
      "outputs": [
        {
          "output_type": "stream",
          "text": [
            "True\n",
            "False\n",
            "True\n",
            "True\n"
          ],
          "name": "stdout"
        }
      ]
    },
    {
      "cell_type": "code",
      "metadata": {
        "id": "-oNCkepkMBZq",
        "colab_type": "code",
        "outputId": "f9a47dcc-f070-4402-d1e9-7e8ec5e74896",
        "colab": {
          "base_uri": "https://localhost:8080/",
          "height": 52
        }
      },
      "source": [
        "# RE -- Validation of Roll Number\n",
        "#152U1A0501\n",
        "import re\n",
        "def validaterollnumber(number):\n",
        "  number=str(number)\n",
        "  pattern='^[1][5][2][U][1][A][0][1-9][0-6][0-9]$'\n",
        "  if re.match(pattern,number):\n",
        "    return True\n",
        "  return False\n",
        "print(validaterollnumber('152U1A0555'))\n",
        "print(validaterollnumber('152U1A0485'))"
      ],
      "execution_count": 0,
      "outputs": [
        {
          "output_type": "stream",
          "text": [
            "True\n",
            "False\n"
          ],
          "name": "stdout"
        }
      ]
    },
    {
      "cell_type": "code",
      "metadata": {
        "id": "16yV7tYlQjkK",
        "colab_type": "code",
        "outputId": "fadbd4b6-8ebd-46ca-c98e-18d3c4b44e09",
        "colab": {
          "base_uri": "https://localhost:8080/",
          "height": 52
        }
      },
      "source": [
        "# Validation for EmailID username@domainname.extension\n",
        "import re\n",
        "def validateemailid(email):\n",
        "  pattern='^[0-9a-z][0-9a-z._]{4,13}[0-9a-z][@][a-z0-9]{3,18}[.][a-z]{2,4}$'\n",
        "  if re.match(pattern,email):\n",
        "    return True\n",
        "  return False\n",
        "print(validateemailid('akash.2000@gmail.com'))\n",
        "print(validateemailid('akash$2000@gmail.com'))"
      ],
      "execution_count": 0,
      "outputs": [
        {
          "output_type": "stream",
          "text": [
            "True\n",
            "False\n"
          ],
          "name": "stdout"
        }
      ]
    },
    {
      "cell_type": "code",
      "metadata": {
        "id": "UfY7Chn9WipJ",
        "colab_type": "code",
        "outputId": "94650c05-b317-4538-9c54-c56878147f7c",
        "colab": {
          "base_uri": "https://localhost:8080/",
          "height": 52
        }
      },
      "source": [
        "# Regular Expression -- Password\n",
        "# Parameters : [6-15]\n",
        "# Accept Lower case, upper case, spl symbols(@,%,#,!)\n",
        "import re \n",
        "def validatepassword(password):\n",
        "   pattern = \"^[a-zA-Z0-9!@#$]{6,15}$\"\n",
        "   if re.match(pattern,password):\n",
        "     return True\n",
        "   return False\n",
        "print(validatepassword('Akash@78#1'))\n",
        "print(validatepassword('akash*79'))"
      ],
      "execution_count": 0,
      "outputs": [
        {
          "output_type": "stream",
          "text": [
            "True\n",
            "False\n"
          ],
          "name": "stdout"
        }
      ]
    },
    {
      "cell_type": "markdown",
      "metadata": {
        "id": "VDLfEFP2kWny",
        "colab_type": "text"
      },
      "source": [
        "###Assignment\n",
        "* File on the virtual machine or local machine\n",
        "* Need to write the data to the file(Name, EmailID, Mobile Number)\n",
        "* Need to return the count of lower case characters\n",
        "* Need to return the count of digits\n",
        "* Need to return th count of spl characters\n",
        "* Need to create a file with these parametes name, EmailID, Mobile Number\n",
        "   * Validate the EmailID\n",
        "   * Validate the Mobile Number"
      ]
    },
    {
      "cell_type": "code",
      "metadata": {
        "id": "FoU8SNESlaCc",
        "colab_type": "code",
        "outputId": "e4b5b0c7-2b93-481e-bd62-d78b69ba889e",
        "colab": {
          "base_uri": "https://localhost:8080/",
          "height": 35
        }
      },
      "source": [
        "#Function to count the lower case character count from the given file\n",
        "def lowercasecount(filename):\n",
        "  cntlower=0\n",
        "  f=open(filename,'r')\n",
        "  if f.mode == 'r':\n",
        "    x=f.read()\n",
        "    lst=list(x)\n",
        "  for i in lst:\n",
        "    if i.islower():\n",
        "      cntlower +=1\n",
        "  return cntlower\n",
        "lowercasecount('file2.txt')"
      ],
      "execution_count": 0,
      "outputs": [
        {
          "output_type": "execute_result",
          "data": {
            "text/plain": [
              "72"
            ]
          },
          "metadata": {
            "tags": []
          },
          "execution_count": 106
        }
      ]
    },
    {
      "cell_type": "code",
      "metadata": {
        "id": "Q5aYiWPCzXDS",
        "colab_type": "code",
        "colab": {}
      },
      "source": [
        "#Function to count the numeric count from the given file\n",
        "def lowercasecount(filename):\n",
        "  cntlower=0\n",
        "  f=open(filename,'r')\n",
        "  if f.mode == 'r':\n",
        "    x=f.read()\n",
        "    lst=list(x)\n",
        "  for i in lst:\n",
        "    if i.isnumeric():\n",
        "      cntlower +=1\n",
        "  return cntlower\n",
        "lowercasecount('file2.txt')"
      ],
      "execution_count": 0,
      "outputs": []
    },
    {
      "cell_type": "code",
      "metadata": {
        "id": "n9OLJjZ4zoPA",
        "colab_type": "code",
        "colab": {
          "base_uri": "https://localhost:8080/",
          "height": 35
        },
        "outputId": "5455647c-5c34-4739-9cfa-459627f8e90e"
      },
      "source": [
        "def countcharacter(filename):\n",
        "    cnt=0\n",
        "    lst=chr(0)\n",
        "    f=open(filename,'r')\n",
        "    if f.mode=='r':\n",
        "        x=f.read()\n",
        "        lst=list(x)\n",
        "    for i in lst:\n",
        "        if i.isnumeric():\n",
        "            break\n",
        "        elif i.isalpha():\n",
        "            break\n",
        "        else: \n",
        "            cnt+=1\n",
        "    return cnt\n",
        "print(countcharacter('file1.txt'))"
      ],
      "execution_count": 130,
      "outputs": [
        {
          "output_type": "stream",
          "text": [
            "0\n"
          ],
          "name": "stdout"
        }
      ]
    },
    {
      "cell_type": "code",
      "metadata": {
        "id": "wOoCVGFCmq1g",
        "colab_type": "code",
        "outputId": "8f6765d7-8255-4d9e-c874-71b54978df61",
        "colab": {
          "base_uri": "https://localhost:8080/",
          "height": 104
        }
      },
      "source": [
        "def createfile(filename):\n",
        "  f=open(filename,'w')\n",
        "  print('File is created successfully and Data is written')\n",
        "  f.close()\n",
        "  return\n",
        "createfile('file3.txt')\n",
        "def appenddata(filename,name,number,email):\n",
        "  f=open(filename,'a')\n",
        "  f.write(' Name:%s\\t'%name)\n",
        "  f.write(' Number:%s\\t'%number)\n",
        "  f.write(' Email:%s\\t'%email)\n",
        "  f.close\n",
        "  return\n",
        "name=input('Enter name:')\n",
        "number=input('Enter number:')\n",
        "email=input('Enter email:')\n",
        "phonenumbervalidate(number)\n",
        "validateemailid(email)\n",
        "import re\n",
        "def phonenumbervalidate(number):\n",
        "  pattern='^[6-9][0-9]{9}$|^[0][6-9][0-9]{9}$|^[+][9][1][6-9][0-9]{9}$'\n",
        "  phone=str(number)\n",
        "  if re.match(pattern,number):\n",
        "    return validateemailid('email')\n",
        "  return print('Invalid number')\n",
        "import re\n",
        "def validateemailid(email):\n",
        "  pattern='^[0-9a-z][0-9a-z._]{4,13}[0-9a-z][@][a-z0-9]{3,18}[.][a-z]{2,4}$'\n",
        "  if re.match(pattern,email):\n",
        "    return appenddata('file3.txt',name,number,email)\n",
        "  return print('Incorrect EmailID')"
      ],
      "execution_count": 0,
      "outputs": [
        {
          "output_type": "stream",
          "text": [
            "File is created successfully and Data is written\n",
            "Enter name:Akash Varma\n",
            "Enter number:945255\n",
            "Enter email:akash.2000@gmail.com\n",
            "Invalid number\n"
          ],
          "name": "stdout"
        }
      ]
    }
  ]
}