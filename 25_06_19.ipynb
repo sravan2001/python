{
  "nbformat": 4,
  "nbformat_minor": 0,
  "metadata": {
    "colab": {
      "name": "25/06/19.ipynb",
      "version": "0.3.2",
      "provenance": [],
      "collapsed_sections": [],
      "include_colab_link": true
    },
    "kernelspec": {
      "name": "python3",
      "display_name": "Python 3"
    }
  },
  "cells": [
    {
      "cell_type": "markdown",
      "metadata": {
        "id": "view-in-github",
        "colab_type": "text"
      },
      "source": [
        "<a href=\"https://colab.research.google.com/github/Akash-Varma-0/Python/blob/master/25_06_19.ipynb\" target=\"_parent\"><img src=\"https://colab.research.google.com/assets/colab-badge.svg\" alt=\"Open In Colab\"/></a>"
      ]
    },
    {
      "cell_type": "markdown",
      "metadata": {
        "id": "jAnGmSp_xByt",
        "colab_type": "text"
      },
      "source": [
        "###Binary Search Algorithm:\n",
        "\n",
        "**Binary Search can be applied only on Sorted List\n",
        "\n",
        "**Binary Search can be applied only on Unique List"
      ]
    },
    {
      "cell_type": "code",
      "metadata": {
        "id": "8WfjCiUn1reN",
        "colab_type": "code",
        "outputId": "fb05f5f1-2c5d-4bc4-f52c-2d027801e803",
        "colab": {
          "base_uri": "https://localhost:8080/",
          "height": 35
        }
      },
      "source": [
        "def binarysearch(a,lindex,rindex,taritem):\n",
        "  while lindex <= rindex:\n",
        "    mindex=lindex+(rindex-lindex)//2\n",
        "    if a[mindex]==taritem:\n",
        "      return mindex\n",
        "    if a[mindex]>taritem:\n",
        "      rindex=mindex-1\n",
        "    else:\n",
        "      lindex=mindex+1\n",
        "  return -1\n",
        "list1=[1,4,9,15,25,45,57,88,98]\n",
        "res=binarysearch(list1,0,8,45)\n",
        "if res!=-1:\n",
        "  print('Item is found')\n",
        "else:\n",
        "  print('Item is not found')"
      ],
      "execution_count": 0,
      "outputs": [
        {
          "output_type": "stream",
          "text": [
            "Item is found\n"
          ],
          "name": "stdout"
        }
      ]
    },
    {
      "cell_type": "markdown",
      "metadata": {
        "id": "42qezs_D6z5M",
        "colab_type": "text"
      },
      "source": [
        "####Sorting Algorithms:\n",
        "#####Bubble sort\n",
        "\n",
        "It compares the adjacent items, if the first item is greater than second item then there would required of swap of the items \n",
        "\n",
        "The Complex - n * n"
      ]
    },
    {
      "cell_type": "code",
      "metadata": {
        "id": "29gQG-Yc-0q6",
        "colab_type": "code",
        "outputId": "77401fbd-85b8-4aa4-c499-655d22dc9593",
        "colab": {
          "base_uri": "https://localhost:8080/",
          "height": 35
        }
      },
      "source": [
        "def bubblesort(a):\n",
        "  for i in range(len(a)-1):\n",
        "    for j in range(len(a)-1):\n",
        "      if a[j]>a[j+1]:\n",
        "        a[j],a[j+1]=a[j+1],a[j]\n",
        "  for i in range(len(a)):\n",
        "    print(a[i],end=' ')\n",
        "list1=[19,1,25,6,18,3]\n",
        "bubblesort(list1)"
      ],
      "execution_count": 0,
      "outputs": [
        {
          "output_type": "stream",
          "text": [
            "1 3 6 18 19 25 "
          ],
          "name": "stdout"
        }
      ]
    },
    {
      "cell_type": "markdown",
      "metadata": {
        "id": "1QEcn93KCQ_z",
        "colab_type": "text"
      },
      "source": [
        "###Strings in Python\n",
        "\n",
        "A string is a sequence of characters.\n",
        "\n",
        "The conversion of character to a number is happens with ASCII Number\n",
        "\n",
        "ASCII Numbers:\n",
        "\n",
        "A - Z  ---------  65 - 90\n",
        "\n",
        "a - z   ---------  97 - 122\n",
        "\n",
        "0 - 9   --------   48 - 57"
      ]
    },
    {
      "cell_type": "code",
      "metadata": {
        "id": "_tZEzUb1DQCa",
        "colab_type": "code",
        "outputId": "a17e3a5d-ff66-48ca-a4a4-2801682daebf",
        "colab": {
          "base_uri": "https://localhost:8080/",
          "height": 156
        }
      },
      "source": [
        "# Creating a string\n",
        "str = \"Application\"\n",
        "print(str)\n",
        "str1 = 'Application'\n",
        "print(str1)\n",
        "str2= \"\"\"Application Test\n",
        "        working\n",
        "        Completed\n",
        "        List\n",
        "        Strings\n",
        "        Python\"\"\"\n",
        "print(str2)"
      ],
      "execution_count": 0,
      "outputs": [
        {
          "output_type": "stream",
          "text": [
            "Application\n",
            "Application\n",
            "Application Test\n",
            "        working\n",
            "        Completed\n",
            "        List\n",
            "        Strings\n",
            "        Python\n"
          ],
          "name": "stdout"
        }
      ]
    },
    {
      "cell_type": "code",
      "metadata": {
        "id": "fkz4nExbEhtG",
        "colab_type": "code",
        "outputId": "f737bf90-74a8-4416-ce02-d2eb79884882",
        "colab": {
          "base_uri": "https://localhost:8080/",
          "height": 191
        }
      },
      "source": [
        "str = \"Application\"\n",
        "print(str)\n",
        "print(\"str[0]  = \",str[0])\n",
        "print(\"str[1]  = \",str[1])\n",
        "print(\"str[-1] = \",str[-1])\n",
        "print(\"str[-3] = \",str[-3])\n",
        "print(\"str[1:5]= \",str[1:5])\n",
        "print(\"str[:5] = \",str[:5])\n",
        "print(\"str[:-5]= \",str[:-5])\n",
        "print(\"str[5:-2]= \",str[5:-2])\n",
        "print(\"str[::-1]= \",str[::-1])"
      ],
      "execution_count": 0,
      "outputs": [
        {
          "output_type": "stream",
          "text": [
            "Application\n",
            "str[0]  =  A\n",
            "str[1]  =  p\n",
            "str[-1] =  n\n",
            "str[-3] =  i\n",
            "str[1:5]=  ppli\n",
            "str[:5] =  Appli\n",
            "str[:-5]=  Applic\n",
            "str[5:-2]=  cati\n",
            "str[::-1]=  noitacilppA\n"
          ],
          "name": "stdout"
        }
      ]
    },
    {
      "cell_type": "markdown",
      "metadata": {
        "id": "V1rlxLX9OQOO",
        "colab_type": "text"
      },
      "source": [
        "###Palidrome of string"
      ]
    },
    {
      "cell_type": "code",
      "metadata": {
        "id": "yc7sAzOgOUi-",
        "colab_type": "code",
        "outputId": "1a19b39d-8a39-4a09-953b-92af93b87b2b",
        "colab": {
          "base_uri": "https://localhost:8080/",
          "height": 52
        }
      },
      "source": [
        "def ispalindrome(s):\n",
        "  if s == s[::-1]:\n",
        "    return True\n",
        "  else:\n",
        "    return False\n",
        "print(ispalindrome(\"Python\"))\n",
        "print(ispalindrome(\"jalaj\"))"
      ],
      "execution_count": 0,
      "outputs": [
        {
          "output_type": "stream",
          "text": [
            "False\n",
            "True\n"
          ],
          "name": "stdout"
        }
      ]
    },
    {
      "cell_type": "code",
      "metadata": {
        "id": "Wr6As87MPXp7",
        "colab_type": "code",
        "outputId": "bd803039-74ac-4ce1-91c8-809519385395",
        "colab": {
          "base_uri": "https://localhost:8080/",
          "height": 52
        }
      },
      "source": [
        "# Count the digits of a number\n",
        "n = int(input(\"Enter a number\"))\n",
        "cnt=0\n",
        "while n != 0:\n",
        "  cnt = cnt + 1\n",
        "  n = n // 10\n",
        "print(cnt)"
      ],
      "execution_count": 0,
      "outputs": [
        {
          "output_type": "stream",
          "text": [
            "Enter a number14978\n",
            "5\n"
          ],
          "name": "stdout"
        }
      ]
    },
    {
      "cell_type": "code",
      "metadata": {
        "id": "2xhvvhv9P0Fi",
        "colab_type": "code",
        "outputId": "37880e12-27a3-4fbe-c4cc-eaeb51d7feb4",
        "colab": {
          "base_uri": "https://localhost:8080/",
          "height": 35
        }
      },
      "source": [
        "def countofchars(str):\n",
        "  return len(str)\n",
        "countofchars('Application')"
      ],
      "execution_count": 0,
      "outputs": [
        {
          "output_type": "execute_result",
          "data": {
            "text/plain": [
              "11"
            ]
          },
          "metadata": {
            "tags": []
          },
          "execution_count": 21
        }
      ]
    },
    {
      "cell_type": "code",
      "metadata": {
        "id": "D2FxKQ4TRrOv",
        "colab_type": "code",
        "outputId": "b90ffb07-390e-4a3c-c941-47ca99795e77",
        "colab": {
          "base_uri": "https://localhost:8080/",
          "height": 35
        }
      },
      "source": [
        "def countdigits(n):\n",
        "  return len(n)\n",
        "countdigits(\"25410\")"
      ],
      "execution_count": 0,
      "outputs": [
        {
          "output_type": "execute_result",
          "data": {
            "text/plain": [
              "5"
            ]
          },
          "metadata": {
            "tags": []
          },
          "execution_count": 22
        }
      ]
    },
    {
      "cell_type": "markdown",
      "metadata": {
        "id": "wZkBDXBaSLMy",
        "colab_type": "text"
      },
      "source": [
        "###String Examples\n",
        "\n",
        "Test Cases:-\n",
        "\n",
        "Application        --             2\n",
        "\n",
        "Test                     --             3"
      ]
    },
    {
      "cell_type": "code",
      "metadata": {
        "id": "TIEKKaW-ajJh",
        "colab_type": "code",
        "outputId": "8065a307-bc43-48a5-8e6a-f1a28c9808ab",
        "colab": {
          "base_uri": "https://localhost:8080/",
          "height": 50
        }
      },
      "source": [
        "def countuppercase(str):\n",
        "  cnt = 0\n",
        "  lst = list(str)\n",
        "  for x in range(len(lst)):\n",
        "    if ord(lst[x]) >= 65 and ord(lst[x]) <= 90:\n",
        "      cnt = cnt + 1\n",
        "  return cnt\n",
        "print(countuppercase(\"AppLication\"))\n",
        "print(countuppercase(\"TeST\"))"
      ],
      "execution_count": 0,
      "outputs": [
        {
          "output_type": "stream",
          "text": [
            "2\n",
            "3\n"
          ],
          "name": "stdout"
        }
      ]
    },
    {
      "cell_type": "markdown",
      "metadata": {
        "id": "k19y9F-HaGKZ",
        "colab_type": "text"
      },
      "source": [
        "####Print of Digits in a string\n",
        "\n",
        "Test Cases:\n",
        "\n",
        "Application 1889 -- 1889\n",
        "\n",
        "Te1520st -- 1520"
      ]
    },
    {
      "cell_type": "code",
      "metadata": {
        "id": "kkaLyCRtabTn",
        "colab_type": "code",
        "outputId": "1929fff3-cae3-49a9-8371-3ab25b5c1a51",
        "colab": {
          "base_uri": "https://localhost:8080/",
          "height": 34
        }
      },
      "source": [
        "def printdigits(str):\n",
        "  lst=list(str)\n",
        "  for x in range(len(str)):\n",
        "    if ord(lst[x]) >= 48 and ord(lst[x]) <= 57:\n",
        "      print(lst[x],end=' ')\n",
        "  return\n",
        "printdigits(\"Application1889\")\n",
        "printdigits(\"Te1520st\")"
      ],
      "execution_count": 0,
      "outputs": [
        {
          "output_type": "stream",
          "text": [
            "1 8 8 9 1 5 2 0 "
          ],
          "name": "stdout"
        }
      ]
    },
    {
      "cell_type": "markdown",
      "metadata": {
        "id": "bxTJlqy9hLX3",
        "colab_type": "text"
      },
      "source": [
        "####Strings  -- You need to add the digits in the given string\n",
        "\n",
        "Test Cases:\n",
        "\n",
        "Application1889 -- 26\n",
        "\n",
        "te1871st -- 17"
      ]
    },
    {
      "cell_type": "code",
      "metadata": {
        "id": "kF72AoVWhmGh",
        "colab_type": "code",
        "outputId": "8f27e6d9-6df9-4b71-beb3-a444314db1e1",
        "colab": {
          "base_uri": "https://localhost:8080/",
          "height": 34
        }
      },
      "source": [
        "def sumofdigits(str):\n",
        "  sum = 0\n",
        "  lst = list(str)\n",
        "  for x in range(len(lst)):\n",
        "    if ord(lst[x]) >= 48 and ord(lst[x]) <= 57:\n",
        "      sum = sum + ord(lst[x]) - 48\n",
        "  return sum\n",
        "sumofdigits(\"Application1889\")"
      ],
      "execution_count": 0,
      "outputs": [
        {
          "output_type": "execute_result",
          "data": {
            "text/plain": [
              "26"
            ]
          },
          "metadata": {
            "tags": []
          },
          "execution_count": 2
        }
      ]
    },
    {
      "cell_type": "markdown",
      "metadata": {
        "id": "E6kPuveh3MK7",
        "colab_type": "text"
      },
      "source": [
        "###Strings  -- Add only even digits to the sum\n",
        "\n",
        "Test Cases:\n",
        "\n",
        "Application1889       ---  16\n",
        "\n",
        "Te1591st                    ---  0\n",
        "\n",
        "Wor7852king               ---  10"
      ]
    },
    {
      "cell_type": "code",
      "metadata": {
        "id": "8B2dgUDK3rTe",
        "colab_type": "code",
        "outputId": "043d04b5-8da2-41b9-f958-9ea3f8631e1a",
        "colab": {
          "base_uri": "https://localhost:8080/",
          "height": 34
        }
      },
      "source": [
        "def sumofevendigits(str):\n",
        "  sum = 0\n",
        "  lst = list(str)\n",
        "  for x in range(len(lst)):\n",
        "    if ord(lst[x]) >= 48 and ord(lst[x]) <= 57 and ord(lst[x])%2==0:\n",
        "      sum = sum + ord(lst[x]) - 48\n",
        "  return sum\n",
        "sumofevendigits(\"Application1889\")"
      ],
      "execution_count": 0,
      "outputs": [
        {
          "output_type": "execute_result",
          "data": {
            "text/plain": [
              "16"
            ]
          },
          "metadata": {
            "tags": []
          },
          "execution_count": 2
        }
      ]
    },
    {
      "cell_type": "markdown",
      "metadata": {
        "id": "tvF8ab788jLx",
        "colab_type": "text"
      },
      "source": [
        "###String character conversion\n",
        "\n",
        "If the input character is a upper case character then convert into lower case character.\n",
        "\n",
        "If the input character is a lower case character then convert into upper case character.\n",
        "\n",
        "Test Cases:\n",
        "\n",
        "AppLICation  --  aPPlicATION\n",
        "\n",
        "TesT  --  tESt"
      ]
    },
    {
      "cell_type": "code",
      "metadata": {
        "id": "IxtgQuJt9Gmf",
        "colab_type": "code",
        "outputId": "c250cff7-43b2-4200-c6f9-217ca2a00826",
        "colab": {
          "base_uri": "https://localhost:8080/",
          "height": 35
        }
      },
      "source": [
        "def caseconversion(str):\n",
        "   lst = list(str)\n",
        "   for x in range(len(lst)):\n",
        "       if ord(lst[x]) >=65 and ord(lst[x]) <=90:\n",
        "           lst[x] = chr(ord(lst[x]) + 32)\n",
        "       elif ord(lst[x]) >= 97 and ord(lst[x]) <= 122:\n",
        "           lst[x] = chr(ord(lst[x]) - 32)\n",
        "   return lst\n",
        "caseconversion(\"AppLICation\")#aPPlicATION"
      ],
      "execution_count": 1,
      "outputs": [
        {
          "output_type": "execute_result",
          "data": {
            "text/plain": [
              "['a', 'P', 'P', 'l', 'i', 'c', 'A', 'T', 'I', 'O', 'N']"
            ]
          },
          "metadata": {
            "tags": []
          },
          "execution_count": 1
        }
      ]
    },
    {
      "cell_type": "markdown",
      "metadata": {
        "id": "t5QlUltFJmqY",
        "colab_type": "text"
      },
      "source": [
        "###String only specific word in Upper case / Lower case\n",
        "\n",
        "Test Cases:\n",
        "\n",
        "Application test working  --  TEST\n",
        "\n",
        "Python is easy  --  IS"
      ]
    },
    {
      "cell_type": "code",
      "metadata": {
        "id": "7cDhzBUVKPFC",
        "colab_type": "code",
        "colab": {
          "base_uri": "https://localhost:8080/",
          "height": 69
        },
        "outputId": "dee3f9d9-91f7-4a37-867d-5e8f671cb7a4"
      },
      "source": [
        "#convert specific word to capital\n",
        "\n",
        "def cuc(s,n):\n",
        "   c=0\n",
        "   k=[]\n",
        "   l=list(s)\n",
        "   f=0\n",
        "   fl=0\n",
        "   for x in range(len(l)):\n",
        "       if ord(l[x])==32 :\n",
        "           f=f+1\n",
        "       if f==n-1 or fl==1:\n",
        "           fl==1\n",
        "           l[x]=ord(l[x])-32\n",
        "           k.append(chr(l[x]))\n",
        "       if f==n:\n",
        "           break\n",
        "   for x in range(len(k)):\n",
        "       print(k[x],end=\"\")\n",
        "           \n",
        "s=input(\"enter a string\")\n",
        "n=int(input(\"enter the word number\"))\n",
        "cuc(s,n)"
      ],
      "execution_count": 2,
      "outputs": [
        {
          "output_type": "stream",
          "text": [
            "enter a stringPython is easy\n",
            "enter the word number2\n",
            "\u0000IS"
          ],
          "name": "stdout"
        }
      ]
    },
    {
      "cell_type": "markdown",
      "metadata": {
        "id": "C_EBo7BUKSaY",
        "colab_type": "text"
      },
      "source": [
        "###Alternate charcters printing from both the strings\n",
        "\n",
        "Test Cases:\n",
        "\n",
        "\"ab\",\"xyz\"  --  axbyz\n",
        "\n",
        "\"abcd\",\"xy\"  --  axbycd"
      ]
    }
  ]
}