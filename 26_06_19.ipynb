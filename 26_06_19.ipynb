{
  "nbformat": 4,
  "nbformat_minor": 0,
  "metadata": {
    "colab": {
      "name": "26/06/19.ipynb",
      "version": "0.3.2",
      "provenance": [],
      "collapsed_sections": [],
      "include_colab_link": true
    },
    "kernelspec": {
      "name": "python3",
      "display_name": "Python 3"
    }
  },
  "cells": [
    {
      "cell_type": "markdown",
      "metadata": {
        "id": "view-in-github",
        "colab_type": "text"
      },
      "source": [
        "<a href=\"https://colab.research.google.com/github/Akash-Varma-0/Python/blob/master/26_06_19.ipynb\" target=\"_parent\"><img src=\"https://colab.research.google.com/assets/colab-badge.svg\" alt=\"Open In Colab\"/></a>"
      ]
    },
    {
      "cell_type": "markdown",
      "metadata": {
        "id": "RruIa09e3mRm",
        "colab_type": "text"
      },
      "source": [
        "###String Function - In Built Functions\n",
        "\n",
        "upper() -- returns string which all the characters in upper case"
      ]
    },
    {
      "cell_type": "code",
      "metadata": {
        "id": "ge502idw35pD",
        "colab_type": "code",
        "outputId": "ff27f9ee-d014-4228-bc7c-c27d7beb0322",
        "colab": {
          "base_uri": "https://localhost:8080/",
          "height": 52
        }
      },
      "source": [
        "str = \"akash\"\n",
        "print(str.upper())\n",
        "print(str.lower())"
      ],
      "execution_count": 0,
      "outputs": [
        {
          "output_type": "stream",
          "text": [
            "AKASH\n",
            "akash\n"
          ],
          "name": "stdout"
        }
      ]
    },
    {
      "cell_type": "markdown",
      "metadata": {
        "id": "TPZQauTF4t27",
        "colab_type": "text"
      },
      "source": [
        "###Boolean Methods\n",
        "\n",
        "islower() -- Method returns the output either true or false , if it is true the given character is lower case and if not it returns false\n",
        "\n",
        "isupper()  -- True and False\n",
        "\n",
        "isnumeric() -- True and False\n",
        "\n",
        "isalpha() -- True and False(Given sting need to have only alphabetic characters)\n",
        "\n",
        "istitle() -- True and False(String is in title case)\n",
        "\n",
        "isspace() -- true and False"
      ]
    },
    {
      "cell_type": "code",
      "metadata": {
        "id": "5UFdeo035JVx",
        "colab_type": "code",
        "outputId": "f86fb795-d6db-4c98-d129-81ac5748c7f5",
        "colab": {
          "base_uri": "https://localhost:8080/",
          "height": 52
        }
      },
      "source": [
        "s = \"Python is Easy Programming to learn and interesting\"\n",
        "s1= \"python\"\n",
        "print(s.islower())\n",
        "print(s1.islower())"
      ],
      "execution_count": 0,
      "outputs": [
        {
          "output_type": "stream",
          "text": [
            "False\n",
            "True\n"
          ],
          "name": "stdout"
        }
      ]
    },
    {
      "cell_type": "code",
      "metadata": {
        "id": "tVLJm87K50Wg",
        "colab_type": "code",
        "outputId": "3cea541d-7cf8-4c36-cc3f-ef53adb38339",
        "colab": {
          "base_uri": "https://localhost:8080/",
          "height": 52
        }
      },
      "source": [
        "s='Application'\n",
        "s1='AKASH'\n",
        "print(s.isupper())\n",
        "print(s1.isupper())"
      ],
      "execution_count": 0,
      "outputs": [
        {
          "output_type": "stream",
          "text": [
            "False\n",
            "True\n"
          ],
          "name": "stdout"
        }
      ]
    },
    {
      "cell_type": "code",
      "metadata": {
        "id": "5d-tkayX63hX",
        "colab_type": "code",
        "outputId": "a2a8a8bd-1fa8-4c50-dd45-fada7fbbf154",
        "colab": {
          "base_uri": "https://localhost:8080/",
          "height": 52
        }
      },
      "source": [
        "s='5678'\n",
        "s1='App1889'\n",
        "print(s.isnumeric())\n",
        "print(s1.isnumeric())"
      ],
      "execution_count": 0,
      "outputs": [
        {
          "output_type": "stream",
          "text": [
            "True\n",
            "False\n"
          ],
          "name": "stdout"
        }
      ]
    },
    {
      "cell_type": "code",
      "metadata": {
        "id": "6xc1StKJ7PtM",
        "colab_type": "code",
        "outputId": "357786dd-4582-4641-b467-2d186ff7b029",
        "colab": {
          "base_uri": "https://localhost:8080/",
          "height": 52
        }
      },
      "source": [
        "s='Application'\n",
        "s1='App1889'\n",
        "print(s.isalpha())\n",
        "print(s1.isalpha())"
      ],
      "execution_count": 0,
      "outputs": [
        {
          "output_type": "stream",
          "text": [
            "True\n",
            "False\n"
          ],
          "name": "stdout"
        }
      ]
    },
    {
      "cell_type": "code",
      "metadata": {
        "id": "zcxd2FL98SYL",
        "colab_type": "code",
        "outputId": "e8f24dba-630b-4050-c52b-907d3e0239a5",
        "colab": {
          "base_uri": "https://localhost:8080/",
          "height": 52
        }
      },
      "source": [
        "s='Python programming'\n",
        "s1='Python Programming'\n",
        "print(s.istitle())\n",
        "print(s1.istitle())"
      ],
      "execution_count": 0,
      "outputs": [
        {
          "output_type": "stream",
          "text": [
            "False\n",
            "True\n"
          ],
          "name": "stdout"
        }
      ]
    },
    {
      "cell_type": "code",
      "metadata": {
        "id": "ck2XwNA79zyf",
        "colab_type": "code",
        "outputId": "baf1df8d-77c3-46ce-9e7f-47b04e976931",
        "colab": {
          "base_uri": "https://localhost:8080/",
          "height": 52
        }
      },
      "source": [
        "s='Python'\n",
        "s1=' '\n",
        "print(s.isspace())\n",
        "print(s1.isspace())"
      ],
      "execution_count": 0,
      "outputs": [
        {
          "output_type": "stream",
          "text": [
            "False\n",
            "True\n"
          ],
          "name": "stdout"
        }
      ]
    },
    {
      "cell_type": "markdown",
      "metadata": {
        "id": "NfkRGbHF-s9t",
        "colab_type": "text"
      },
      "source": [
        "###String Methods\n",
        "\n",
        "1.join():join() method will concatinate two strings\n",
        "\n",
        "2.split():split() returns the list of strings that are separeted by whitespaces if there is no parameters to given\n",
        "\n",
        "3.replace():replace the original string with the new string"
      ]
    },
    {
      "cell_type": "code",
      "metadata": {
        "id": "V__cm-ts_ECN",
        "colab_type": "code",
        "outputId": "37a7328b-c734-40f8-fefa-7c1647169b7f",
        "colab": {
          "base_uri": "https://localhost:8080/",
          "height": 35
        }
      },
      "source": [
        "str='Python'\n",
        "print(' '.join(str))"
      ],
      "execution_count": 0,
      "outputs": [
        {
          "output_type": "stream",
          "text": [
            "P y t h o n\n"
          ],
          "name": "stdout"
        }
      ]
    },
    {
      "cell_type": "code",
      "metadata": {
        "id": "xpcFxtO4_Q_c",
        "colab_type": "code",
        "outputId": "47260207-e17e-414d-b6f2-395e9f8af10d",
        "colab": {
          "base_uri": "https://localhost:8080/",
          "height": 35
        }
      },
      "source": [
        "print(','.join(['Python','Programming','Easy']))"
      ],
      "execution_count": 0,
      "outputs": [
        {
          "output_type": "stream",
          "text": [
            "Python,Programming,Easy\n"
          ],
          "name": "stdout"
        }
      ]
    },
    {
      "cell_type": "code",
      "metadata": {
        "id": "Ma-Ra7n7_kEd",
        "colab_type": "code",
        "outputId": "fbf15e79-73f3-4671-de00-41d5953cd407",
        "colab": {
          "base_uri": "https://localhost:8080/",
          "height": 35
        }
      },
      "source": [
        "lst=['','']\n",
        "print(','.join(lst))"
      ],
      "execution_count": 0,
      "outputs": [
        {
          "output_type": "stream",
          "text": [
            ",\n"
          ],
          "name": "stdout"
        }
      ]
    },
    {
      "cell_type": "code",
      "metadata": {
        "id": "TW8o1ao0BEKR",
        "colab_type": "code",
        "outputId": "225db708-37bb-4245-f718-70c930699dea",
        "colab": {
          "base_uri": "https://localhost:8080/",
          "height": 69
        }
      },
      "source": [
        "s='Python, Programming, is, easy, to, learn'\n",
        "print(s.split())\n",
        "print(s.split('a'))\n",
        "print(s.split(','))"
      ],
      "execution_count": 0,
      "outputs": [
        {
          "output_type": "stream",
          "text": [
            "['Python,', 'Programming,', 'is,', 'easy,', 'to,', 'learn']\n",
            "['Python, Progr', 'mming, is, e', 'sy, to, le', 'rn']\n",
            "['Python', ' Programming', ' is', ' easy', ' to', ' learn']\n"
          ],
          "name": "stdout"
        }
      ]
    },
    {
      "cell_type": "code",
      "metadata": {
        "id": "VVWRaQTMCYbX",
        "colab_type": "code",
        "outputId": "f63c4de3-2a5f-44fb-bd25-a0e236babbe6",
        "colab": {
          "base_uri": "https://localhost:8080/",
          "height": 52
        }
      },
      "source": [
        "s='Python Programming is easy to learn'\n",
        "lst=s.split()\n",
        "print(lst)\n",
        "print(lst.index('is'))"
      ],
      "execution_count": 0,
      "outputs": [
        {
          "output_type": "stream",
          "text": [
            "['Python', 'Programming', 'is', 'easy', 'to', 'learn']\n",
            "2\n"
          ],
          "name": "stdout"
        }
      ]
    },
    {
      "cell_type": "code",
      "metadata": {
        "id": "IGbRJ-9CC6yd",
        "colab_type": "code",
        "outputId": "c5f54e02-b4a5-4d14-c36d-84c28a77f36a",
        "colab": {
          "base_uri": "https://localhost:8080/",
          "height": 55
        }
      },
      "source": [
        "s='Python Programming is easy to learn'\n",
        "lst=list(s)\n",
        "print(lst)"
      ],
      "execution_count": 0,
      "outputs": [
        {
          "output_type": "stream",
          "text": [
            "['P', 'y', 't', 'h', 'o', 'n', ' ', 'P', 'r', 'o', 'g', 'r', 'a', 'm', 'm', 'i', 'n', 'g', ' ', 'i', 's', ' ', 'e', 'a', 's', 'y', ' ', 't', 'o', ' ', 'l', 'e', 'a', 'r', 'n']\n"
          ],
          "name": "stdout"
        }
      ]
    },
    {
      "cell_type": "code",
      "metadata": {
        "id": "BYTOT6olEMCk",
        "colab_type": "code",
        "outputId": "3235028a-5177-4cd2-81f0-de375cd718cc",
        "colab": {
          "base_uri": "https://localhost:8080/",
          "height": 35
        }
      },
      "source": [
        "s='Python Programming'\n",
        "print(s.replace('gra','application'))"
      ],
      "execution_count": 0,
      "outputs": [
        {
          "output_type": "stream",
          "text": [
            "Python Proapplicationmming\n"
          ],
          "name": "stdout"
        }
      ]
    },
    {
      "cell_type": "markdown",
      "metadata": {
        "id": "5ZF_PDJTKASa",
        "colab_type": "text"
      },
      "source": [
        "###Python -- Tuples\n",
        "\n",
        "A tuple is a sequence of set of objects is like list only.\n",
        "\n",
        "The differences of list and tuple are, the tuples cannot be changed unlike list\n",
        "\n",
        "List will use square brackets hold objects[]\n",
        "\n",
        "Tuples will use parenthesis to hold objects()\n",
        "\n",
        "Tuples are useful when the given input is only for read purpose"
      ]
    },
    {
      "cell_type": "code",
      "metadata": {
        "id": "balHY9LNKFVc",
        "colab_type": "code",
        "outputId": "140e79c0-e4a3-4972-93a8-624ab1081d25",
        "colab": {
          "base_uri": "https://localhost:8080/",
          "height": 52
        }
      },
      "source": [
        "t1=('Python','Programming',1989,2019,'Machine Learning','AI')\n",
        "t2=(1,2,3,4,5)\n",
        "print(t1)\n",
        "print(t2)"
      ],
      "execution_count": 0,
      "outputs": [
        {
          "output_type": "stream",
          "text": [
            "('Python', 'Programming', 1989, 2019, 'Machine Learning', 'AI')\n",
            "(1, 2, 3, 4, 5)\n"
          ],
          "name": "stdout"
        }
      ]
    },
    {
      "cell_type": "code",
      "metadata": {
        "id": "Sv2d6VLlLl6F",
        "colab_type": "code",
        "outputId": "25a18e98-0849-41c9-9af2-b06aa40d2c6e",
        "colab": {
          "base_uri": "https://localhost:8080/",
          "height": 104
        }
      },
      "source": [
        "t1=('Python','Programming',1989,2019,'Machine Learning','AI')\n",
        "print('t1[0] = ',t1[0])\n",
        "print('t1[1] = ',t1[1])\n",
        "print('t1[-1] = ',t1[-1])\n",
        "print('t1[1:4] = ',t1[1:4])\n",
        "print('t1[2:-2] = ',t1[2:-2])"
      ],
      "execution_count": 0,
      "outputs": [
        {
          "output_type": "stream",
          "text": [
            "t1[0] =  Python\n",
            "t1[1] =  Programming\n",
            "t1[-1] =  AI\n",
            "t1[1:4] =  ('Programming', 1989, 2019)\n",
            "t1[2:-2] =  (1989, 2019)\n"
          ],
          "name": "stdout"
        }
      ]
    },
    {
      "cell_type": "code",
      "metadata": {
        "id": "JovhZ7z9M7Dj",
        "colab_type": "code",
        "outputId": "49705215-6c97-43f6-bcc4-f71a0023abe1",
        "colab": {
          "base_uri": "https://localhost:8080/",
          "height": 218
        }
      },
      "source": [
        "t1=('Python','Programming',1989,2019,'Machine Learning','AI')\n",
        "print(t1)\n",
        "#t1[2]=2018\n",
        "del t1[2]"
      ],
      "execution_count": 0,
      "outputs": [
        {
          "output_type": "stream",
          "text": [
            "('Python', 'Programming', 1989, 2019, 'Machine Learning', 'AI')\n"
          ],
          "name": "stdout"
        },
        {
          "output_type": "error",
          "ename": "TypeError",
          "evalue": "ignored",
          "traceback": [
            "\u001b[0;31m---------------------------------------------------------------------------\u001b[0m",
            "\u001b[0;31mTypeError\u001b[0m                                 Traceback (most recent call last)",
            "\u001b[0;32m<ipython-input-33-a1547e6b0a1f>\u001b[0m in \u001b[0;36m<module>\u001b[0;34m()\u001b[0m\n\u001b[1;32m      2\u001b[0m \u001b[0mprint\u001b[0m\u001b[0;34m(\u001b[0m\u001b[0mt1\u001b[0m\u001b[0;34m)\u001b[0m\u001b[0;34m\u001b[0m\u001b[0;34m\u001b[0m\u001b[0m\n\u001b[1;32m      3\u001b[0m \u001b[0;31m#t1[2]=2018\u001b[0m\u001b[0;34m\u001b[0m\u001b[0;34m\u001b[0m\u001b[0;34m\u001b[0m\u001b[0m\n\u001b[0;32m----> 4\u001b[0;31m \u001b[0;32mdel\u001b[0m \u001b[0mt1\u001b[0m\u001b[0;34m[\u001b[0m\u001b[0;36m2\u001b[0m\u001b[0;34m]\u001b[0m\u001b[0;34m\u001b[0m\u001b[0;34m\u001b[0m\u001b[0m\n\u001b[0m",
            "\u001b[0;31mTypeError\u001b[0m: 'tuple' object doesn't support item deletion"
          ]
        }
      ]
    },
    {
      "cell_type": "code",
      "metadata": {
        "id": "FgGOYerBNftj",
        "colab_type": "code",
        "outputId": "c430ef6b-800a-439b-dac2-544e53c4cd32",
        "colab": {
          "base_uri": "https://localhost:8080/",
          "height": 218
        }
      },
      "source": [
        "t1=('Python','Programming',1989,2019,'Machine Learning','AI')\n",
        "print(t1)\n",
        "del t1\n",
        "print(t1)"
      ],
      "execution_count": 0,
      "outputs": [
        {
          "output_type": "stream",
          "text": [
            "('Python', 'Programming', 1989, 2019, 'Machine Learning', 'AI')\n"
          ],
          "name": "stdout"
        },
        {
          "output_type": "error",
          "ename": "NameError",
          "evalue": "ignored",
          "traceback": [
            "\u001b[0;31m---------------------------------------------------------------------------\u001b[0m",
            "\u001b[0;31mNameError\u001b[0m                                 Traceback (most recent call last)",
            "\u001b[0;32m<ipython-input-41-fdf5150a9863>\u001b[0m in \u001b[0;36m<module>\u001b[0;34m()\u001b[0m\n\u001b[1;32m      2\u001b[0m \u001b[0mprint\u001b[0m\u001b[0;34m(\u001b[0m\u001b[0mt1\u001b[0m\u001b[0;34m)\u001b[0m\u001b[0;34m\u001b[0m\u001b[0;34m\u001b[0m\u001b[0m\n\u001b[1;32m      3\u001b[0m \u001b[0;32mdel\u001b[0m \u001b[0mt1\u001b[0m\u001b[0;34m\u001b[0m\u001b[0;34m\u001b[0m\u001b[0m\n\u001b[0;32m----> 4\u001b[0;31m \u001b[0mprint\u001b[0m\u001b[0;34m(\u001b[0m\u001b[0mt1\u001b[0m\u001b[0;34m)\u001b[0m\u001b[0;34m\u001b[0m\u001b[0;34m\u001b[0m\u001b[0m\n\u001b[0m",
            "\u001b[0;31mNameError\u001b[0m: name 't1' is not defined"
          ]
        }
      ]
    },
    {
      "cell_type": "code",
      "metadata": {
        "id": "bNLPf_RhN7y6",
        "colab_type": "code",
        "outputId": "26903bd8-a18d-42ca-8bf0-50bfb8724201",
        "colab": {
          "base_uri": "https://localhost:8080/",
          "height": 35
        }
      },
      "source": [
        "t1=('Python','Programming')\n",
        "t2=(1989,2019,'ML','AI')\n",
        "t3=t1+t2\n",
        "print(t3)"
      ],
      "execution_count": 0,
      "outputs": [
        {
          "output_type": "stream",
          "text": [
            "('Python', 'Programming', 1989, 2019, 'ML', 'AI')\n"
          ],
          "name": "stdout"
        }
      ]
    },
    {
      "cell_type": "markdown",
      "metadata": {
        "id": "6r4ygn89QOCt",
        "colab_type": "text"
      },
      "source": [
        "###Tuple Methods\n",
        "\n",
        "**1.len(tuple)**:-len of the tuple\n",
        "\n",
        "**2.max(tuple)**:-returns the max value from tuple\n",
        "\n",
        "**3.min(tuple)**:-returns the min value from tuple\n",
        "\n",
        "**4.cmp(tuple1,tuple2):-returns the value as 1 or -1"
      ]
    },
    {
      "cell_type": "code",
      "metadata": {
        "id": "mQzhPOPRQzkM",
        "colab_type": "code",
        "outputId": "8fb10a52-2ecc-41b3-bccb-6a9d07e32e7a",
        "colab": {
          "base_uri": "https://localhost:8080/",
          "height": 35
        }
      },
      "source": [
        "t1=('Python','Programming',1989,2019,'Machine Learning','AI')\n",
        "print(len(t1))"
      ],
      "execution_count": 0,
      "outputs": [
        {
          "output_type": "stream",
          "text": [
            "6\n"
          ],
          "name": "stdout"
        }
      ]
    },
    {
      "cell_type": "code",
      "metadata": {
        "id": "cbsCXfuYQ58j",
        "colab_type": "code",
        "outputId": "5e2c6785-68e8-4e17-9610-93776b91aff3",
        "colab": {
          "base_uri": "https://localhost:8080/",
          "height": 218
        }
      },
      "source": [
        "t1=(12,15,19,25,6,18)\n",
        "t2=('Python',12,1,'Programming')\n",
        "print(max(t1))\n",
        "print(max(t2))"
      ],
      "execution_count": 0,
      "outputs": [
        {
          "output_type": "stream",
          "text": [
            "25\n"
          ],
          "name": "stdout"
        },
        {
          "output_type": "error",
          "ename": "TypeError",
          "evalue": "ignored",
          "traceback": [
            "\u001b[0;31m---------------------------------------------------------------------------\u001b[0m",
            "\u001b[0;31mTypeError\u001b[0m                                 Traceback (most recent call last)",
            "\u001b[0;32m<ipython-input-44-ce71302d2c66>\u001b[0m in \u001b[0;36m<module>\u001b[0;34m()\u001b[0m\n\u001b[1;32m      2\u001b[0m \u001b[0mt2\u001b[0m\u001b[0;34m=\u001b[0m\u001b[0;34m(\u001b[0m\u001b[0;34m'Python'\u001b[0m\u001b[0;34m,\u001b[0m\u001b[0;36m12\u001b[0m\u001b[0;34m,\u001b[0m\u001b[0;36m1\u001b[0m\u001b[0;34m,\u001b[0m\u001b[0;34m'Programming'\u001b[0m\u001b[0;34m)\u001b[0m\u001b[0;34m\u001b[0m\u001b[0;34m\u001b[0m\u001b[0m\n\u001b[1;32m      3\u001b[0m \u001b[0mprint\u001b[0m\u001b[0;34m(\u001b[0m\u001b[0mmax\u001b[0m\u001b[0;34m(\u001b[0m\u001b[0mt1\u001b[0m\u001b[0;34m)\u001b[0m\u001b[0;34m)\u001b[0m\u001b[0;34m\u001b[0m\u001b[0;34m\u001b[0m\u001b[0m\n\u001b[0;32m----> 4\u001b[0;31m \u001b[0mprint\u001b[0m\u001b[0;34m(\u001b[0m\u001b[0mmax\u001b[0m\u001b[0;34m(\u001b[0m\u001b[0mt2\u001b[0m\u001b[0;34m)\u001b[0m\u001b[0;34m)\u001b[0m\u001b[0;34m\u001b[0m\u001b[0;34m\u001b[0m\u001b[0m\n\u001b[0m",
            "\u001b[0;31mTypeError\u001b[0m: '>' not supported between instances of 'int' and 'str'"
          ]
        }
      ]
    },
    {
      "cell_type": "code",
      "metadata": {
        "id": "Jp_xnJDMRYOL",
        "colab_type": "code",
        "outputId": "acbcf8d2-17b2-4b60-9382-c55d876b5e29",
        "colab": {
          "base_uri": "https://localhost:8080/",
          "height": 35
        }
      },
      "source": [
        "t1=(12,15,19,25,6,18)\n",
        "print(min(t1))"
      ],
      "execution_count": 0,
      "outputs": [
        {
          "output_type": "stream",
          "text": [
            "6\n"
          ],
          "name": "stdout"
        }
      ]
    },
    {
      "cell_type": "code",
      "metadata": {
        "id": "D9BzLqskRrdr",
        "colab_type": "code",
        "outputId": "f743c8d5-94a8-40fe-b7f2-38507c5e89d3",
        "colab": {
          "base_uri": "https://localhost:8080/",
          "height": 253
        }
      },
      "source": [
        "t1=(1,2,3,4,5)\n",
        "t2=(1,2,3,4,5)\n",
        "print(t1)\n",
        "print(t2)\n",
        "a=cmp(t1,t2)\n",
        "print(a)"
      ],
      "execution_count": 0,
      "outputs": [
        {
          "output_type": "stream",
          "text": [
            "(1, 2, 3, 4, 5)\n",
            "(1, 2, 3, 4, 5)\n"
          ],
          "name": "stdout"
        },
        {
          "output_type": "error",
          "ename": "NameError",
          "evalue": "ignored",
          "traceback": [
            "\u001b[0;31m---------------------------------------------------------------------------\u001b[0m",
            "\u001b[0;31mNameError\u001b[0m                                 Traceback (most recent call last)",
            "\u001b[0;32m<ipython-input-46-660e0ff55bf9>\u001b[0m in \u001b[0;36m<module>\u001b[0;34m()\u001b[0m\n\u001b[1;32m      3\u001b[0m \u001b[0mprint\u001b[0m\u001b[0;34m(\u001b[0m\u001b[0mt1\u001b[0m\u001b[0;34m)\u001b[0m\u001b[0;34m\u001b[0m\u001b[0;34m\u001b[0m\u001b[0m\n\u001b[1;32m      4\u001b[0m \u001b[0mprint\u001b[0m\u001b[0;34m(\u001b[0m\u001b[0mt2\u001b[0m\u001b[0;34m)\u001b[0m\u001b[0;34m\u001b[0m\u001b[0;34m\u001b[0m\u001b[0m\n\u001b[0;32m----> 5\u001b[0;31m \u001b[0ma\u001b[0m\u001b[0;34m=\u001b[0m\u001b[0mcmp\u001b[0m\u001b[0;34m(\u001b[0m\u001b[0mt1\u001b[0m\u001b[0;34m,\u001b[0m\u001b[0mt2\u001b[0m\u001b[0;34m)\u001b[0m\u001b[0;34m\u001b[0m\u001b[0;34m\u001b[0m\u001b[0m\n\u001b[0m\u001b[1;32m      6\u001b[0m \u001b[0mprint\u001b[0m\u001b[0;34m(\u001b[0m\u001b[0ma\u001b[0m\u001b[0;34m)\u001b[0m\u001b[0;34m\u001b[0m\u001b[0;34m\u001b[0m\u001b[0m\n",
            "\u001b[0;31mNameError\u001b[0m: name 'cmp' is not defined"
          ]
        }
      ]
    },
    {
      "cell_type": "code",
      "metadata": {
        "id": "2pdyWmdySlYS",
        "colab_type": "code",
        "outputId": "ad74d993-ff5d-4535-c6d0-1ed02cde9a7e",
        "colab": {
          "base_uri": "https://localhost:8080/",
          "height": 52
        }
      },
      "source": [
        "list1=['Python','Programming',1989,2019,'Machine Learning','AI']\n",
        "print(list1)\n",
        "tuple1=tuple(list1)\n",
        "print(tuple1)"
      ],
      "execution_count": 0,
      "outputs": [
        {
          "output_type": "stream",
          "text": [
            "['Python', 'Programming', 1989, 2019, 'Machine Learning', 'AI']\n",
            "('Python', 'Programming', 1989, 2019, 'Machine Learning', 'AI')\n"
          ],
          "name": "stdout"
        }
      ]
    },
    {
      "cell_type": "markdown",
      "metadata": {
        "id": "TsrYyFWlTrjH",
        "colab_type": "text"
      },
      "source": [
        "###Python -- Dictionary\n",
        "\n",
        "Dictionary each key is separeted with values by colon(:)\n",
        "\n",
        "User data can be separeted from comma operator\n",
        "\n",
        "Examples:-\n",
        "\n",
        "user1 = {'Name':'Akash','Age':'18','EmailID':'akash@gmail.com','MobileNumber':'9999999999'}\n",
        "\n",
        "**Methods**\n",
        "\n",
        "**1.len(dictobj)**:-returns a number which having length\n",
        "\n",
        "**2.str(dictobj)**:-returns the equ string to dic object\n",
        "\n",
        "**3.copy()**:-Copies the one dic object data to another data\n",
        "\n",
        "**4.items()**:-returns a list of dict"
      ]
    },
    {
      "cell_type": "code",
      "metadata": {
        "id": "ENLFdqeETwTK",
        "colab_type": "code",
        "outputId": "231a9716-0a0c-4044-c9d0-4f2e5c6954c0",
        "colab": {
          "base_uri": "https://localhost:8080/",
          "height": 87
        }
      },
      "source": [
        "user1 = {'Name':'Akash','Age':'18','EmailID':'akash@gmail.com','MobileNumber':'9999999999'}\n",
        "print('user1[Name] = ',user1['Name'])\n",
        "print('user1[EmailID] = ',user1['EmailID'])\n",
        "print('user1[Age] = ',user1['Age'])\n",
        "print('user1[MobileNumber] = ',user1['MobileNumber'])"
      ],
      "execution_count": 0,
      "outputs": [
        {
          "output_type": "stream",
          "text": [
            "user1[Name] =  Akash\n",
            "user1[EmailID] =  akash@gmail.com\n",
            "user1[Age] =  18\n",
            "user1[MobileNumber] =  9999999999\n"
          ],
          "name": "stdout"
        }
      ]
    },
    {
      "cell_type": "code",
      "metadata": {
        "id": "JS_QYxpgd-Tk",
        "colab_type": "code",
        "outputId": "893435db-c8ea-46f9-b172-cb618fbb9a44",
        "colab": {
          "base_uri": "https://localhost:8080/",
          "height": 69
        }
      },
      "source": [
        "user1 = {'Name':'Akash','Age':'18','EmailID':'akash@gmail.com','MobileNumber':'9999999999'}\n",
        "print(user1['EmailID'])\n",
        "#update the dict object data\n",
        "user1['EmailID'] = 'AkashVarma@gmail.com'\n",
        "print(user1['EmailID'])\n",
        "user1['Address'] = 'Hyderabad' # New entry for an item in dict object\n",
        "print(user1['Address'])"
      ],
      "execution_count": 0,
      "outputs": [
        {
          "output_type": "stream",
          "text": [
            "akash@gmail.com\n",
            "AkashVarma@gmail.com\n",
            "Hyderabad\n"
          ],
          "name": "stdout"
        }
      ]
    },
    {
      "cell_type": "code",
      "metadata": {
        "id": "qj1c9g9ff0O2",
        "colab_type": "code",
        "colab": {}
      },
      "source": [
        "user1 = {'Name':'Akash','Age':'18','EmailID':'akash@gmail.com','MobileNumber':'9999999999'}\n",
        "del user1['EmailID']\n",
        "user1.clear()\n",
        "del user1"
      ],
      "execution_count": 0,
      "outputs": []
    },
    {
      "cell_type": "code",
      "metadata": {
        "id": "t0q1JAsXgj0A",
        "colab_type": "code",
        "outputId": "de3c502f-745a-4d06-82fa-1ff89fc2cb7b",
        "colab": {
          "base_uri": "https://localhost:8080/",
          "height": 52
        }
      },
      "source": [
        "user1 = {'Name':'Akash','Age':'18','EmailID':'akash@gmail.com','MobileNumber':'9999999999'}\n",
        "print(len(user1))\n",
        "user1['Address']= 'Hyderabad'\n",
        "print(len(user1))"
      ],
      "execution_count": 0,
      "outputs": [
        {
          "output_type": "stream",
          "text": [
            "4\n",
            "5\n"
          ],
          "name": "stdout"
        }
      ]
    },
    {
      "cell_type": "code",
      "metadata": {
        "id": "QCoKdLoiimC7",
        "colab_type": "code",
        "outputId": "63ac6672-fc7d-442b-f153-37b5377c5078",
        "colab": {
          "base_uri": "https://localhost:8080/",
          "height": 87
        }
      },
      "source": [
        "user1 = {'Name':'Akash','Age':'18','EmailID':'akash@gmail.com','MobileNumber':'9999999999'}\n",
        "user2=user1.copy()\n",
        "print(user1)\n",
        "print(user2)\n",
        "user1['Address'] = 'Hyderabad'\n",
        "print(user1)\n",
        "print(user2)"
      ],
      "execution_count": 0,
      "outputs": [
        {
          "output_type": "stream",
          "text": [
            "{'Name': 'Akash', 'Age': '18', 'EmailID': 'akash@gmail.com', 'MobileNumber': '9999999999'}\n",
            "{'Name': 'Akash', 'Age': '18', 'EmailID': 'akash@gmail.com', 'MobileNumber': '9999999999'}\n",
            "{'Name': 'Akash', 'Age': '18', 'EmailID': 'akash@gmail.com', 'MobileNumber': '9999999999', 'Address': 'Hyderabad'}\n",
            "{'Name': 'Akash', 'Age': '18', 'EmailID': 'akash@gmail.com', 'MobileNumber': '9999999999'}\n"
          ],
          "name": "stdout"
        }
      ]
    },
    {
      "cell_type": "code",
      "metadata": {
        "id": "ShBWB9V_mCPL",
        "colab_type": "code",
        "outputId": "27cc78a5-3bd3-44ba-9d30-bd3327d9d94f",
        "colab": {
          "base_uri": "https://localhost:8080/",
          "height": 52
        }
      },
      "source": [
        "user1 = {'Name':'Akash','Age':'18','EmailID':'akash@gmail.com','MobileNumber':'9999999999'}\n",
        "user2 = user1.copy()\n",
        "print(user1.values())\n",
        "print(user2.values())"
      ],
      "execution_count": 0,
      "outputs": [
        {
          "output_type": "stream",
          "text": [
            "dict_values(['Akash', '18', 'akash@gmail.com', '9999999999'])\n",
            "dict_values(['Akash', '18', 'akash@gmail.com', '9999999999'])\n"
          ],
          "name": "stdout"
        }
      ]
    },
    {
      "cell_type": "markdown",
      "metadata": {
        "id": "KQm2LVNDnkAw",
        "colab_type": "text"
      },
      "source": [
        "###String Formatting\n",
        "\n",
        "%s %d"
      ]
    },
    {
      "cell_type": "code",
      "metadata": {
        "id": "RfBmqB-An1eS",
        "colab_type": "code",
        "outputId": "bd8abe74-2033-408b-ece7-ab28247a7e1b",
        "colab": {
          "base_uri": "https://localhost:8080/",
          "height": 35
        }
      },
      "source": [
        "lst=['Python','Programming']\n",
        "print('%s %s'%(lst[0],lst[1]))"
      ],
      "execution_count": 0,
      "outputs": [
        {
          "output_type": "stream",
          "text": [
            "Python Programming\n"
          ],
          "name": "stdout"
        }
      ]
    },
    {
      "cell_type": "code",
      "metadata": {
        "id": "y964Mjq-omUL",
        "colab_type": "code",
        "outputId": "5b7db954-0a20-412a-c9aa-13ecefb1da9f",
        "colab": {
          "base_uri": "https://localhost:8080/",
          "height": 35
        }
      },
      "source": [
        "lst=['Python','Programming']\n",
        "print('{0} {1}'.format(lst[0],lst[1]))"
      ],
      "execution_count": 0,
      "outputs": [
        {
          "output_type": "stream",
          "text": [
            "Python Programming\n"
          ],
          "name": "stdout"
        }
      ]
    },
    {
      "cell_type": "code",
      "metadata": {
        "id": "mut9B1fxNdHT",
        "colab_type": "code",
        "outputId": "b7bd70da-d887-40ef-e074-d15e997a4804",
        "colab": {
          "base_uri": "https://localhost:8080/",
          "height": 35
        }
      },
      "source": [
        "lst = [1,2,3,4]\n",
        "print('%d %d %d %d'%(lst[0],lst[1],lst[2],lst[3]))"
      ],
      "execution_count": 0,
      "outputs": [
        {
          "output_type": "stream",
          "text": [
            "1 2 3 4\n"
          ],
          "name": "stdout"
        }
      ]
    },
    {
      "cell_type": "code",
      "metadata": {
        "id": "vpxQ-JP6N3Ng",
        "colab_type": "code",
        "outputId": "90f251c2-f28f-47b4-cf35-473a17f5e5e0",
        "colab": {
          "base_uri": "https://localhost:8080/",
          "height": 52
        }
      },
      "source": [
        "lst = [1,2,3,4]\n",
        "print('Value at : {0} Value at : {1}'.format(lst[0],lst[1]))\n",
        "print('Value at : {0} Value at : {1}'.format(lst[2],lst[3]))"
      ],
      "execution_count": 0,
      "outputs": [
        {
          "output_type": "stream",
          "text": [
            "Value at : 1 Value at : 2\n",
            "Value at : 3 Value at : 4\n"
          ],
          "name": "stdout"
        }
      ]
    },
    {
      "cell_type": "markdown",
      "metadata": {
        "id": "AAlCKIBx7UsN",
        "colab_type": "text"
      },
      "source": [
        "###Contact Application\n",
        "\n",
        "1.Add new contact\n",
        "\n",
        "2.Search for contact\n",
        "\n",
        "3.List of all contacts\n",
        "       \n",
        "       3.1 Name1 - Phone1\n",
        "       \n",
        "       3.2 Name2 - Phone2\n",
        "       \n",
        "       3.3 Importing new contacts\n",
        "\n",
        "4.Remove contact\n",
        "\n",
        "5.Modify contacts"
      ]
    },
    {
      "cell_type": "code",
      "metadata": {
        "id": "Nogbq2e_8bVO",
        "colab_type": "code",
        "outputId": "942e6b38-8151-4b1c-e1d7-8f8a6cec0ea2",
        "colab": {
          "base_uri": "https://localhost:8080/",
          "height": 69
        }
      },
      "source": [
        "contacts = {}\n",
        "def addcontact(name,phone):\n",
        "  #verify that the contact doesn't already exist\n",
        "  if name not in contacts:\n",
        "    contacts[name] = phone\n",
        "    print('Contact %s added' % name)\n",
        "  else:\n",
        "    print('contact %s already exists' % name)\n",
        "  return\n",
        "addcontact('Akash',9521543154)\n",
        "addcontact('Varma',9546563256)\n",
        "addcontact('Akash',9565464654)"
      ],
      "execution_count": 0,
      "outputs": [
        {
          "output_type": "stream",
          "text": [
            "Contact Akash added\n",
            "Contact Varma added\n",
            "contact Akash already exists\n"
          ],
          "name": "stdout"
        }
      ]
    },
    {
      "cell_type": "code",
      "metadata": {
        "id": "y_VIqKBn_vJi",
        "colab_type": "code",
        "outputId": "67f01067-e335-40a9-8d1f-6754b27589a3",
        "colab": {
          "base_uri": "https://localhost:8080/",
          "height": 69
        }
      },
      "source": [
        "#Search for a particular contact from Contact List\n",
        "def searchcontact(name):\n",
        "  if name in contacts:\n",
        "    print(name, ': ' ,contacts[name])\n",
        "  else:\n",
        "    print('%s does not exists' % name)\n",
        "  return\n",
        "searchcontact('Akash')\n",
        "searchcontact('Dantuluri')\n",
        "searchcontact('Varma')"
      ],
      "execution_count": 0,
      "outputs": [
        {
          "output_type": "stream",
          "text": [
            "Akash :  9521543154\n",
            "Dantuluri does not exists\n",
            "Varma :  9546563256\n"
          ],
          "name": "stdout"
        }
      ]
    },
    {
      "cell_type": "code",
      "metadata": {
        "id": "x6NY-_jnCqi8",
        "colab_type": "code",
        "outputId": "42eed1fc-1d4c-41ca-9eca-80a4dfc7b22e",
        "colab": {
          "base_uri": "https://localhost:8080/",
          "height": 35
        }
      },
      "source": [
        "#New Contacts is given as a dictionary\n",
        "#Merge new contact  with existing contacts list\n",
        "def importcontacts(newcontacts):\n",
        "  contacts.update(newcontacts)\n",
        "  print(len(newcontacts.keys()),'Conatcts added successfully')\n",
        "  return\n",
        "newcontacts={'Dinesh':9545254362,'Anand':8545416524}\n",
        "importcontacts(newcontacts)"
      ],
      "execution_count": 0,
      "outputs": [
        {
          "output_type": "stream",
          "text": [
            "2 Conatcts added successfully\n"
          ],
          "name": "stdout"
        }
      ]
    },
    {
      "cell_type": "code",
      "metadata": {
        "id": "Rzlsv6QYFUoH",
        "colab_type": "code",
        "outputId": "87cfe7b6-a7f1-46ef-b4cc-dd237647e0a8",
        "colab": {
          "base_uri": "https://localhost:8080/",
          "height": 35
        }
      },
      "source": [
        "print(contacts)"
      ],
      "execution_count": 0,
      "outputs": [
        {
          "output_type": "stream",
          "text": [
            "{'Akash': 9521543154, 'Varma': 9546563256, 'Dinesh': 9545254362, 'Anand': 8545416524}\n"
          ],
          "name": "stdout"
        }
      ]
    },
    {
      "cell_type": "code",
      "metadata": {
        "id": "PaoeqUUsGSjJ",
        "colab_type": "code",
        "outputId": "819bf5b8-b09c-48b7-a3d6-89f3edefc5dc",
        "colab": {
          "base_uri": "https://localhost:8080/",
          "height": 52
        }
      },
      "source": [
        "#Delete a conatct from contacts list\n",
        "def deletecontact(name):\n",
        "  if name in contacts:\n",
        "    del contacts[name]\n",
        "    print(name,'is deleted from the contacts')\n",
        "  else:\n",
        "    print(name,'does not exists in the contacts')\n",
        "  return\n",
        "deletecontact('Swadeep')\n",
        "deletecontact('Shashank')"
      ],
      "execution_count": 0,
      "outputs": [
        {
          "output_type": "stream",
          "text": [
            "Swadeep does not exists in the contacts\n",
            "Shashank does not exists in the contacts\n"
          ],
          "name": "stdout"
        }
      ]
    },
    {
      "cell_type": "code",
      "metadata": {
        "id": "aJ86doZtJqzR",
        "colab_type": "code",
        "outputId": "e2eb68dd-ed1c-4f03-f2ae-c8a30d093df2",
        "colab": {
          "base_uri": "https://localhost:8080/",
          "height": 52
        }
      },
      "source": [
        "def updatecontact(name,phone):\n",
        "  if name in contacts:\n",
        "    contacts[name] = phone\n",
        "    print(name,'Updated with new Phone number')\n",
        "  else:\n",
        "    print(name,'Not exists in contacts')\n",
        "  return\n",
        "updatecontact('Anand',9852415846)\n",
        "updatecontact('Abhinav',9865456354)"
      ],
      "execution_count": 0,
      "outputs": [
        {
          "output_type": "stream",
          "text": [
            "Anand Updated with new Phone number\n",
            "Abhinav Not exists in contacts\n"
          ],
          "name": "stdout"
        }
      ]
    },
    {
      "cell_type": "markdown",
      "metadata": {
        "id": "5Y1goAJiOfxe",
        "colab_type": "text"
      },
      "source": [
        "###Packages and Modules\n",
        "\n",
        "**Package**:- Collection of Modules(Python file .py)\n",
        "\n",
        "**Sub Packages**:- Its part of Main package\n",
        "\n",
        "**Module**:- A single Python file contains set of operations(Functions)\n",
        "\n",
        "        *#Package --> Sub package --> Modules --> Functions*\n",
        "        \n",
        "        *#Standard Lib -- Math *"
      ]
    },
    {
      "cell_type": "code",
      "metadata": {
        "id": "CNE9i2kYOmBc",
        "colab_type": "code",
        "outputId": "d671d9d1-4874-4b36-dc66-8d21b2f536a4",
        "colab": {
          "base_uri": "https://localhost:8080/",
          "height": 35
        }
      },
      "source": [
        "from math import floor as f1\n",
        "f1(123.456)"
      ],
      "execution_count": 0,
      "outputs": [
        {
          "output_type": "execute_result",
          "data": {
            "text/plain": [
              "123"
            ]
          },
          "metadata": {
            "tags": []
          },
          "execution_count": 86
        }
      ]
    },
    {
      "cell_type": "code",
      "metadata": {
        "id": "SPsYbXqVQW8-",
        "colab_type": "code",
        "outputId": "f93de4cc-cc0b-4229-f204-8d44be3a4a5b",
        "colab": {
          "base_uri": "https://localhost:8080/",
          "height": 35
        }
      },
      "source": [
        "from math import factorial as fact\n",
        "fact(5)"
      ],
      "execution_count": 0,
      "outputs": [
        {
          "output_type": "execute_result",
          "data": {
            "text/plain": [
              "120"
            ]
          },
          "metadata": {
            "tags": []
          },
          "execution_count": 88
        }
      ]
    },
    {
      "cell_type": "code",
      "metadata": {
        "id": "qufvb3AWQfuC",
        "colab_type": "code",
        "outputId": "409050be-9946-4127-b98f-154b9ccd90d5",
        "colab": {
          "base_uri": "https://localhost:8080/",
          "height": 35
        }
      },
      "source": [
        "import math\n",
        "math.factorial(5)"
      ],
      "execution_count": 0,
      "outputs": [
        {
          "output_type": "execute_result",
          "data": {
            "text/plain": [
              "120"
            ]
          },
          "metadata": {
            "tags": []
          },
          "execution_count": 89
        }
      ]
    },
    {
      "cell_type": "code",
      "metadata": {
        "id": "Ibk9fQ3VRZkG",
        "colab_type": "code",
        "outputId": "cfcb0f60-ac89-4d19-f0af-a3867ef38824",
        "colab": {
          "base_uri": "https://localhost:8080/",
          "height": 35
        }
      },
      "source": [
        "#Generate the random numbers between two limits\n",
        "import random\n",
        "def generaterandomnumbers(n,lb,ub):\n",
        "  for i in range(0,n):\n",
        "    print(random.randint(lb,ub),end=' ')\n",
        "  return\n",
        "generaterandomnumbers(10,12,120)"
      ],
      "execution_count": 0,
      "outputs": [
        {
          "output_type": "stream",
          "text": [
            "45 12 33 34 23 33 12 120 100 106 "
          ],
          "name": "stdout"
        }
      ]
    },
    {
      "cell_type": "markdown",
      "metadata": {
        "id": "J8wOI2z0dmK8",
        "colab_type": "text"
      },
      "source": [
        "1.Use math package -- Extract minimum of 10 functions\n",
        "\n",
        "2.Use random package -- Extract minimum of 10 functions"
      ]
    },
    {
      "cell_type": "code",
      "metadata": {
        "id": "7Q1PqdE4ePDR",
        "colab_type": "code",
        "outputId": "5f87a4d7-6e0c-4cee-a159-042b19871aa8",
        "colab": {
          "base_uri": "https://localhost:8080/",
          "height": 35
        }
      },
      "source": [
        "# returning the ceil of 2.3 \n",
        "import math\n",
        "a = 2.3\n",
        "print (\"The ceil of 2.3 is : \", end=\"\") \n",
        "print (math.ceil(a))"
      ],
      "execution_count": 0,
      "outputs": [
        {
          "output_type": "stream",
          "text": [
            "The ceil of 2.3 is : 3\n"
          ],
          "name": "stdout"
        }
      ]
    },
    {
      "cell_type": "code",
      "metadata": {
        "id": "1NL8wLF5p71T",
        "colab_type": "code",
        "outputId": "c847777f-f5d7-4e45-c7cb-b4e5ab26b26d",
        "colab": {
          "base_uri": "https://localhost:8080/",
          "height": 35
        }
      },
      "source": [
        "# returning the floor of 2.3\n",
        "import math \n",
        "a = 2.3\n",
        "print (\"The floor of 2.3 is : \", end=\"\") \n",
        "print (math.floor(a))"
      ],
      "execution_count": 0,
      "outputs": [
        {
          "output_type": "stream",
          "text": [
            "The floor of 2.3 is : 2\n"
          ],
          "name": "stdout"
        }
      ]
    },
    {
      "cell_type": "code",
      "metadata": {
        "id": "ug7UcqwuqBBN",
        "colab_type": "code",
        "outputId": "99ec8ffe-3f29-4a58-f6db-a75cd7e72970",
        "colab": {
          "base_uri": "https://localhost:8080/",
          "height": 35
        }
      },
      "source": [
        "#returning the absolute value\n",
        "import math \n",
        "a = -15\n",
        "print (\"The absolute value of -15 is : \", end=\"\") \n",
        "print (math.fabs(a))"
      ],
      "execution_count": 0,
      "outputs": [
        {
          "output_type": "stream",
          "text": [
            "The absolute value of -15 is : 15.0\n"
          ],
          "name": "stdout"
        }
      ]
    },
    {
      "cell_type": "code",
      "metadata": {
        "id": "xdZ3W9YcqFyt",
        "colab_type": "code",
        "outputId": "93136cf4-5fd7-40f1-945d-91ea2c7cded3",
        "colab": {
          "base_uri": "https://localhost:8080/",
          "height": 35
        }
      },
      "source": [
        "#returning the factorial\n",
        "import math\n",
        "a = 3\n",
        "print(\"the factorial of 3 is : \", end=\" \")\n",
        "print (math.factorial(a))#returning the copysigned value "
      ],
      "execution_count": 0,
      "outputs": [
        {
          "output_type": "stream",
          "text": [
            "the factorial of 3 is :  6\n"
          ],
          "name": "stdout"
        }
      ]
    },
    {
      "cell_type": "code",
      "metadata": {
        "id": "YON0LiHsqJFp",
        "colab_type": "code",
        "outputId": "69d40299-2d87-425d-c280-2a359a599b85",
        "colab": {
          "base_uri": "https://localhost:8080/",
          "height": 35
        }
      },
      "source": [
        "#returning the copysigned value \n",
        "import math\n",
        "a = -2.3\n",
        "b = 99\n",
        "print(\"the factorial of -2.3 and 99 is : \", end=\" \")\n",
        "print(math.copysign(-2.3,99))"
      ],
      "execution_count": 0,
      "outputs": [
        {
          "output_type": "stream",
          "text": [
            "the factorial of -2.3 and 99 is :  2.3\n"
          ],
          "name": "stdout"
        }
      ]
    },
    {
      "cell_type": "code",
      "metadata": {
        "id": "X6aiIL5bqOGo",
        "colab_type": "code",
        "outputId": "3b5afc37-b824-4e94-c2d8-53cd462f5e0c",
        "colab": {
          "base_uri": "https://localhost:8080/",
          "height": 35
        }
      },
      "source": [
        "#returning the gcd\n",
        "import math\n",
        "a = 45\n",
        "b = 3\n",
        "print(\"the gcd of 45 and 3 is : \", end=\" \")\n",
        "print(math.gcd(45,3))"
      ],
      "execution_count": 0,
      "outputs": [
        {
          "output_type": "stream",
          "text": [
            "the gcd of 45 and 3 is :  3\n"
          ],
          "name": "stdout"
        }
      ]
    },
    {
      "cell_type": "code",
      "metadata": {
        "id": "09QXuSYjqce4",
        "colab_type": "code",
        "outputId": "1bdd3a2a-5715-4fb9-e20b-fe59c30adf21",
        "colab": {
          "base_uri": "https://localhost:8080/",
          "height": 35
        }
      },
      "source": [
        "import math\n",
        "a = 23\n",
        "print(\"given number is : \", end=\" \")\n",
        "print(math.isfinite(a))"
      ],
      "execution_count": 0,
      "outputs": [
        {
          "output_type": "stream",
          "text": [
            "given number is :  True\n"
          ],
          "name": "stdout"
        }
      ]
    },
    {
      "cell_type": "code",
      "metadata": {
        "id": "K21KJ3QWqf8L",
        "colab_type": "code",
        "outputId": "52d41441-fcaf-4574-9898-1fc712056a91",
        "colab": {
          "base_uri": "https://localhost:8080/",
          "height": 35
        }
      },
      "source": [
        "import math\n",
        "a = 3.58\n",
        "print(\"the mod of 3.58 is : \",end=\" \")\n",
        "print(math.modf(a))"
      ],
      "execution_count": 0,
      "outputs": [
        {
          "output_type": "stream",
          "text": [
            "the mod of 3.58 is :  (0.5800000000000001, 3.0)\n"
          ],
          "name": "stdout"
        }
      ]
    },
    {
      "cell_type": "code",
      "metadata": {
        "id": "DI7LuPhdqi9E",
        "colab_type": "code",
        "outputId": "4bcdb70f-c533-4667-fe87-8379a49aa951",
        "colab": {
          "base_uri": "https://localhost:8080/",
          "height": 35
        }
      },
      "source": [
        "import math\n",
        "a = 2.99\n",
        "print(\"the exp of 2.99 is : \",end=\" \")\n",
        "print(math.exp(a))"
      ],
      "execution_count": 0,
      "outputs": [
        {
          "output_type": "stream",
          "text": [
            "the exp of 2.99 is :  19.88568249156473\n"
          ],
          "name": "stdout"
        }
      ]
    }
  ]
}