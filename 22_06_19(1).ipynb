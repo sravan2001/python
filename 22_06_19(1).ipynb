{
  "nbformat": 4,
  "nbformat_minor": 0,
  "metadata": {
    "colab": {
      "name": "22/06/19(1).ipynb",
      "version": "0.3.2",
      "provenance": [],
      "collapsed_sections": [],
      "include_colab_link": true
    },
    "kernelspec": {
      "name": "python3",
      "display_name": "Python 3"
    }
  },
  "cells": [
    {
      "cell_type": "markdown",
      "metadata": {
        "id": "view-in-github",
        "colab_type": "text"
      },
      "source": [
        "<a href=\"https://colab.research.google.com/github/Akash-Varma-0/Python/blob/master/22_06_19(1).ipynb\" target=\"_parent\"><img src=\"https://colab.research.google.com/assets/colab-badge.svg\" alt=\"Open In Colab\"/></a>"
      ]
    },
    {
      "cell_type": "markdown",
      "metadata": {
        "id": "57ovO5dGbMpq",
        "colab_type": "text"
      },
      "source": [
        "#Functional Programming in Python\n",
        "Functions can be used to perform the specific task in the programming.\n",
        "\n",
        "Function in Python starts with def(keyword)\n",
        "\n",
        "Syntax:\n",
        "                                         def  functionname(Parameters)"
      ]
    },
    {
      "cell_type": "markdown",
      "metadata": {
        "id": "hoIJYZMtcjLe",
        "colab_type": "text"
      },
      "source": [
        "#Example 1\n",
        "Functional Programming to print the n natural numbers"
      ]
    },
    {
      "cell_type": "code",
      "metadata": {
        "id": "JzNO86Mncs1N",
        "colab_type": "code",
        "outputId": "51e723b9-2526-4f37-e4ce-99ced1f53821",
        "colab": {
          "base_uri": "https://localhost:8080/",
          "height": 51
        }
      },
      "source": [
        "def printnnaturalnumbers(n):\n",
        "  cnt=1\n",
        "  while(cnt<=n):\n",
        "    print(cnt,end = ' ')\n",
        "    cnt=cnt + 1\n",
        "  print()\n",
        "  return\n",
        "printnnaturalnumbers(9)\n",
        "printnnaturalnumbers(15)"
      ],
      "execution_count": 0,
      "outputs": [
        {
          "output_type": "stream",
          "text": [
            "1 2 3 4 5 6 7 8 9 \n",
            "1 2 3 4 5 6 7 8 9 10 11 12 13 14 15 \n"
          ],
          "name": "stdout"
        }
      ]
    },
    {
      "cell_type": "markdown",
      "metadata": {
        "id": "tGMjzdvlfLgQ",
        "colab_type": "text"
      },
      "source": [
        "#Example 2\n",
        "Find the factorial of a given number"
      ]
    },
    {
      "cell_type": "code",
      "metadata": {
        "id": "cRu7A5UafVBx",
        "colab_type": "code",
        "outputId": "7122787b-5522-4fcc-d98b-84788f81e51e",
        "colab": {
          "base_uri": "https://localhost:8080/",
          "height": 68
        }
      },
      "source": [
        "def findfact(n):\n",
        "  fact=1\n",
        "  while(n!=0):\n",
        "    fact=fact*n\n",
        "    n=n-1\n",
        "  return fact\n",
        "print(findfact(5))\n",
        "print(findfact(10))\n",
        "print(findfact(20))"
      ],
      "execution_count": 0,
      "outputs": [
        {
          "output_type": "stream",
          "text": [
            "120\n",
            "3628800\n",
            "2432902008176640000\n"
          ],
          "name": "stdout"
        }
      ]
    },
    {
      "cell_type": "markdown",
      "metadata": {
        "id": "TJzIzfwmjZc3",
        "colab_type": "text"
      },
      "source": [
        "#Example 3\n",
        "Program to find the count of palindrome between two limits\n",
        "\n",
        "10,30      ----         2\n",
        "\n",
        "1,10        ----  9\n",
        "\n",
        "1,100      ----   18\n"
      ]
    },
    {
      "cell_type": "code",
      "metadata": {
        "id": "mtD_nazajsnQ",
        "colab_type": "code",
        "colab": {
          "base_uri": "https://localhost:8080/",
          "height": 34
        },
        "outputId": "389e17f0-1f29-4f84-edf1-4a13a9847bea"
      },
      "source": [
        "def countpalindrome(n1,n2):\n",
        "    cou=0;\n",
        "    while(n1<=n2):\n",
        "        k=n1;\n",
        "        u=n1;\n",
        "        sum=0;\n",
        "        while(k!=0):\n",
        "            r=k%10;\n",
        "            sum=sum*10+r;\n",
        "            k=k/10;\n",
        "            k=int(k);\n",
        "        if(sum==u):\n",
        "            cou=cou+1;\n",
        "        n1=n1+1;\n",
        "    \n",
        "            \n",
        "        \n",
        "    return cou;\n",
        "print(countpalindrome(10,30))"
      ],
      "execution_count": 9,
      "outputs": [
        {
          "output_type": "stream",
          "text": [
            "2\n"
          ],
          "name": "stdout"
        }
      ]
    }
  ]
}